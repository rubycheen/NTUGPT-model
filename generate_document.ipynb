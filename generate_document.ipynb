{
 "cells": [
  {
   "cell_type": "code",
   "execution_count": null,
   "metadata": {},
   "outputs": [],
   "source": [
    "from langchain.document_loaders import UnstructuredURLLoader, UnstructuredFileLoader\n",
    "from langchain.document_loaders.image import UnstructuredImageLoader\n",
    "from langchain.docstore.document import Document\n",
    "\n",
    "from unstructured.cleaners.core import remove_punctuation, clean, clean_extra_whitespace\n",
    "from urllib.parse import urlparse\n",
    "\n",
    "def is_url(url):\n",
    "  try:\n",
    "    result = urlparse(url)\n",
    "    return all([result.scheme, result.netloc])\n",
    "  except ValueError:\n",
    "    return False\n",
    "  \n",
    "def generate_document(url):\n",
    "    \n",
    "    fake_head = {\n",
    "              'User-Agent': 'My User Agent 1.0',\n",
    "              \"Accept\": \"text/html,application/xhtml+xml,application/xml;q=0.9,image/webp,*/*\"\n",
    "              \";q=0.8\",\n",
    "              \"Accept-Language\": \"en-US,en;q=0.5\",\n",
    "              \"Referer\": \"https://www.google.com/\",\n",
    "              \"DNT\": \"1\",\n",
    "              \"Connection\": \"keep-alive\",\n",
    "              \"Upgrade-Insecure-Requests\": \"1\",\n",
    "          }\n",
    "    try:\n",
    "      if is_url(url):\n",
    "          loader = UnstructuredURLLoader(urls=[url],\n",
    "                                        mode=\"elements\",\n",
    "                                        post_processors=[clean,remove_punctuation,clean_extra_whitespace], \n",
    "                                        headers=fake_head)\n",
    "      elif url.endswith('.jpg'):\n",
    "        loader = UnstructuredImageLoader(url,\n",
    "                                        mode=\"elements\",\n",
    "                                        post_processors=[clean,remove_punctuation,clean_extra_whitespace], \n",
    "                                        headers=fake_head)\n",
    "      else:\n",
    "          loader = UnstructuredFileLoader(url, \n",
    "                                  strategy=\"fast\", \n",
    "                                  mode=\"elements\",\n",
    "                                  post_processors=[clean,remove_punctuation,clean_extra_whitespace], \n",
    "                                  headers=fake_head)\n",
    "      elements = loader.load()\n",
    "      # print(f'elements {elements}')\n",
    "      selected_elements = [e for e in elements if e.metadata['category']==\"NarrativeText\" or e.metadata['category']==\"Title\"]\n",
    "      # print(f'selected_elements {selected_elements}')\n",
    "      full_clean = \" \".join([e.page_content for e in selected_elements])\n",
    "      return Document(page_content=full_clean, metadata={\"source\":url})\n",
    "    except:\n",
    "       print(f'*ERROR* {url}')"
   ]
  },
  {
   "cell_type": "code",
   "execution_count": null,
   "metadata": {},
   "outputs": [],
   "source": [
    "import pandas as pd\n",
    "\n",
    "df = pd.read_csv('url_department_2.csv')\n",
    "df.tail()"
   ]
  },
  {
   "cell_type": "code",
   "execution_count": 4,
   "metadata": {},
   "outputs": [
    {
     "name": "stderr",
     "output_type": "stream",
     "text": [
      "  0%|          | 8/2510 [00:55<1:48:09,  2.59s/it]The headers kwarg is set but the url kwarg is not. The headers kwarg will be ignored.\n"
     ]
    },
    {
     "name": "stdout",
     "output_type": "stream",
     "text": [
      "*ERROR* //youtube.com/embed/dTVOC36yz3o?fs=1&autoplay=1&rel=1\n"
     ]
    },
    {
     "name": "stderr",
     "output_type": "stream",
     "text": [
      "  1%|          | 14/2510 [00:56<37:06,  1.12it/s]  The headers kwarg is set but the url kwarg is not. The headers kwarg will be ignored.\n"
     ]
    },
    {
     "name": "stdout",
     "output_type": "stream",
     "text": [
      "*ERROR* //rx.mc.ntu.edu.tw/myDOP/SCENE/ABOUT/mainabout.php?rub=about//9\n"
     ]
    },
    {
     "name": "stderr",
     "output_type": "stream",
     "text": [
      "  3%|▎         | 64/2510 [01:24<42:55,  1.05s/it]The headers kwarg is set but the url kwarg is not. The headers kwarg will be ignored.\n",
      "  3%|▎         | 66/2510 [01:24<25:35,  1.59it/s]"
     ]
    },
    {
     "name": "stdout",
     "output_type": "stream",
     "text": [
      "*ERROR* //youtube.com/embed/WkNbq-r3Kvs?fs=1&autoplay=1&rel=1\n"
     ]
    },
    {
     "name": "stderr",
     "output_type": "stream",
     "text": [
      "  5%|▌         | 132/2510 [02:21<17:31,  2.26it/s]  The headers kwarg is set but the url kwarg is not. The headers kwarg will be ignored.\n",
      "  5%|▌         | 136/2510 [02:21<08:40,  4.56it/s]"
     ]
    },
    {
     "name": "stdout",
     "output_type": "stream",
     "text": [
      "*ERROR* //youtube.com/embed/EBmgbL7Q4vU?fs=1&autoplay=1&rel=1\n"
     ]
    },
    {
     "name": "stderr",
     "output_type": "stream",
     "text": [
      "  7%|▋         | 186/2510 [02:42<20:50,  1.86it/s]The headers kwarg is set but the url kwarg is not. The headers kwarg will be ignored.\n"
     ]
    },
    {
     "name": "stdout",
     "output_type": "stream",
     "text": [
      "*ERROR* //sp.mc.ntu.edu.tw/mySOP/sopPage.php?malangue=&myrub=introduction//1-4\n"
     ]
    },
    {
     "name": "stderr",
     "output_type": "stream",
     "text": [
      "  8%|▊         | 212/2510 [03:48<22:57,  1.67it/s]  The headers kwarg is set but the url kwarg is not. The headers kwarg will be ignored.\n",
      "  9%|▊         | 214/2510 [03:48<14:39,  2.61it/s]"
     ]
    },
    {
     "name": "stdout",
     "output_type": "stream",
     "text": [
      "*ERROR* //youtube.com/embed/NWvvS07UCio?fs=1&autoplay=1&rel=1\n"
     ]
    },
    {
     "name": "stderr",
     "output_type": "stream",
     "text": [
      " 10%|█         | 259/2510 [04:35<41:48,  1.11s/it]  The headers kwarg is set but the url kwarg is not. The headers kwarg will be ignored.\n"
     ]
    },
    {
     "name": "stdout",
     "output_type": "stream",
     "text": [
      "*ERROR* //youtube.com/embed/PsxjFZodeQY?fs=1&autoplay=1&rel=1\n"
     ]
    },
    {
     "name": "stderr",
     "output_type": "stream",
     "text": [
      " 16%|█▌        | 399/2510 [06:11<25:17,  1.39it/s]  The headers kwarg is set but the url kwarg is not. The headers kwarg will be ignored.\n"
     ]
    },
    {
     "name": "stdout",
     "output_type": "stream",
     "text": [
      "*ERROR* //sp.mc.ntu.edu.tw/PRIRS/\n"
     ]
    },
    {
     "name": "stderr",
     "output_type": "stream",
     "text": [
      " 18%|█▊        | 440/2510 [07:15<19:35,  1.76it/s]  The headers kwarg is set but the url kwarg is not. The headers kwarg will be ignored.\n"
     ]
    },
    {
     "name": "stdout",
     "output_type": "stream",
     "text": [
      "*ERROR* //youtube.com/embed/tBMxbwHXN44?fs=1&autoplay=1&rel=1\n"
     ]
    },
    {
     "name": "stderr",
     "output_type": "stream",
     "text": [
      " 18%|█▊        | 447/2510 [07:19<24:30,  1.40it/s]Error fetching or processing https://ems.ntu.edu.tw/infosession/, exception: HTTPSConnectionPool(host='ems.ntu.edu.tw', port=443): Max retries exceeded with url: /infosession/ (Caused by NewConnectionError('<urllib3.connection.HTTPSConnection object at 0x7f33d7b32750>: Failed to establish a new connection: [Errno -2] Name or service not known'))\n",
      " 19%|█▊        | 465/2510 [07:27<25:46,  1.32it/s]The headers kwarg is set but the url kwarg is not. The headers kwarg will be ignored.\n"
     ]
    },
    {
     "name": "stdout",
     "output_type": "stream",
     "text": [
      "*ERROR* //youtube.com/embed/rxc_VIGDY-0?fs=1&autoplay=1&rel=1\n"
     ]
    },
    {
     "name": "stderr",
     "output_type": "stream",
     "text": [
      " 19%|█▉        | 484/2510 [07:35<13:43,  2.46it/s]The headers kwarg is set but the url kwarg is not. The headers kwarg will be ignored.\n"
     ]
    },
    {
     "name": "stdout",
     "output_type": "stream",
     "text": [
      "*ERROR* //sp.mc.ntu.edu.tw/mySOP/sopPageII.php?malangue=&myrub=featured%20courses//1-2\n"
     ]
    },
    {
     "name": "stderr",
     "output_type": "stream",
     "text": [
      " 21%|██        | 527/2510 [07:57<17:05,  1.93it/s]The headers kwarg is set but the url kwarg is not. The headers kwarg will be ignored.\n",
      " 21%|██        | 530/2510 [07:57<09:11,  3.59it/s]"
     ]
    },
    {
     "name": "stdout",
     "output_type": "stream",
     "text": [
      "*ERROR* //sp.mc.ntu.edu.tw/mySOP/\n"
     ]
    },
    {
     "name": "stderr",
     "output_type": "stream",
     "text": [
      " 22%|██▏       | 544/2510 [08:08<18:03,  1.81it/s]Error fetching or processing https://ems.ntu.edu.tw/campus_introduction/, exception: HTTPSConnectionPool(host='ems.ntu.edu.tw', port=443): Max retries exceeded with url: /campus_introduction/ (Caused by NewConnectionError('<urllib3.connection.HTTPSConnection object at 0x7f33d7b28550>: Failed to establish a new connection: [Errno -2] Name or service not known'))\n",
      " 23%|██▎       | 589/2510 [08:53<11:52,  2.69it/s]  The headers kwarg is set but the url kwarg is not. The headers kwarg will be ignored.\n"
     ]
    },
    {
     "name": "stdout",
     "output_type": "stream",
     "text": [
      "*ERROR* //sp.mc.ntu.edu.tw/mySOP/sopPage.php?malangue=&myrub=introduction//1-1\n"
     ]
    },
    {
     "name": "stderr",
     "output_type": "stream",
     "text": [
      " 24%|██▎       | 595/2510 [08:59<26:13,  1.22it/s]The headers kwarg is set but the url kwarg is not. The headers kwarg will be ignored.\n"
     ]
    },
    {
     "name": "stdout",
     "output_type": "stream",
     "text": [
      "*ERROR* //sp.mc.ntu.edu.tw/mySOP/sopPage.php?malangue=&myrub=introduction//1-3\n"
     ]
    },
    {
     "name": "stderr",
     "output_type": "stream",
     "text": [
      " 26%|██▌       | 641/2510 [09:32<06:34,  4.73it/s]  Error fetching or processing https://ems.ntu.edu.tw/core/, exception: HTTPSConnectionPool(host='ems.ntu.edu.tw', port=443): Max retries exceeded with url: /core/ (Caused by NewConnectionError('<urllib3.connection.HTTPSConnection object at 0x7f33d7e35550>: Failed to establish a new connection: [Errno -2] Name or service not known'))\n",
      " 26%|██▋       | 659/2510 [09:37<06:34,  4.69it/s]Error fetching or processing https://ems.ntu.edu.tw/faq/, exception: HTTPSConnectionPool(host='ems.ntu.edu.tw', port=443): Max retries exceeded with url: /faq/ (Caused by NewConnectionError('<urllib3.connection.HTTPSConnection object at 0x7f33d7f0b1d0>: Failed to establish a new connection: [Errno -2] Name or service not known'))\n",
      " 28%|██▊       | 705/2510 [10:20<16:11,  1.86it/s]  Error fetching or processing https://ems.ntu.edu.tw/alliance/, exception: HTTPSConnectionPool(host='ems.ntu.edu.tw', port=443): Max retries exceeded with url: /alliance/ (Caused by NewConnectionError('<urllib3.connection.HTTPSConnection object at 0x7f33bc333090>: Failed to establish a new connection: [Errno -2] Name or service not known'))\n",
      " 29%|██▉       | 732/2510 [10:51<23:41,  1.25it/s]  The headers kwarg is set but the url kwarg is not. The headers kwarg will be ignored.\n"
     ]
    },
    {
     "name": "stdout",
     "output_type": "stream",
     "text": [
      "*ERROR* //sp.mc.ntu.edu.tw/mySOP/sopPage.php?malangue=&myrub=location\n"
     ]
    },
    {
     "name": "stderr",
     "output_type": "stream",
     "text": [
      " 30%|███       | 755/2510 [11:11<28:46,  1.02it/s]The headers kwarg is set but the url kwarg is not. The headers kwarg will be ignored.\n"
     ]
    },
    {
     "name": "stdout",
     "output_type": "stream",
     "text": [
      "*ERROR* //rx.mc.ntu.edu.tw/myDOP/INNERPAGE/\n"
     ]
    },
    {
     "name": "stderr",
     "output_type": "stream",
     "text": [
      " 30%|███       | 759/2510 [11:12<16:48,  1.74it/s]Error fetching or processing https://ems.ntu.edu.tw/forum_debate/, exception: HTTPSConnectionPool(host='ems.ntu.edu.tw', port=443): Max retries exceeded with url: /forum_debate/ (Caused by NewConnectionError('<urllib3.connection.HTTPSConnection object at 0x7f33d7e2e810>: Failed to establish a new connection: [Errno -2] Name or service not known'))\n",
      " 33%|███▎      | 819/2510 [12:15<16:25,  1.72it/s]  javaldx: Could not find a Java Runtime Environment!\n",
      "Please ensure that a JVM and the package libreoffice-java-common\n",
      "is installed.\n",
      "If it is already installed then try removing ~/.config/libreoffice/4/user/config/javasettings_Linux_*.xml\n",
      "Warning: failed to read path from javaldx\n",
      " 34%|███▍      | 857/2510 [12:41<10:52,  2.53it/s]Error fetching or processing https://ems.ntu.edu.tw/news/, exception: HTTPSConnectionPool(host='ems.ntu.edu.tw', port=443): Max retries exceeded with url: /news/ (Caused by NewConnectionError('<urllib3.connection.HTTPSConnection object at 0x7f33bc7d2bd0>: Failed to establish a new connection: [Errno -2] Name or service not known'))\n",
      "Error fetching or processing https://ems.ntu.edu.tw/faculty/, exception: HTTPSConnectionPool(host='ems.ntu.edu.tw', port=443): Max retries exceeded with url: /faculty/ (Caused by NewConnectionError('<urllib3.connection.HTTPSConnection object at 0x7f33d7b290d0>: Failed to establish a new connection: [Errno -2] Name or service not known'))\n",
      " 38%|███▊      | 949/2510 [13:42<08:02,  3.23it/s]  Error fetching or processing https://ems.ntu.edu.tw/summerclass/, exception: HTTPSConnectionPool(host='ems.ntu.edu.tw', port=443): Max retries exceeded with url: /summerclass/ (Caused by NewConnectionError('<urllib3.connection.HTTPSConnection object at 0x7f33d7b55f90>: Failed to establish a new connection: [Errno -2] Name or service not known'))\n",
      " 38%|███▊      | 959/2510 [13:45<06:07,  4.22it/s]Error fetching or processing https://ems.ntu.edu.tw/edu-course-category/cross_border_network/, exception: HTTPSConnectionPool(host='ems.ntu.edu.tw', port=443): Max retries exceeded with url: /edu-course-category/cross_border_network/ (Caused by NewConnectionError('<urllib3.connection.HTTPSConnection object at 0x7f33d7b79dd0>: Failed to establish a new connection: [Errno -2] Name or service not known'))\n",
      " 41%|████      | 1023/2510 [14:53<1:13:19,  2.96s/it]Error fetching or processing https://ems.ntu.edu.tw/class/, exception: HTTPSConnectionPool(host='ems.ntu.edu.tw', port=443): Max retries exceeded with url: /class/ (Caused by NewConnectionError('<urllib3.connection.HTTPSConnection object at 0x7f33b06779d0>: Failed to establish a new connection: [Errno -2] Name or service not known'))\n",
      " 41%|████      | 1034/2510 [14:58<19:19,  1.27it/s]  Error fetching or processing https://ems.ntu.edu.tw/forum/, exception: HTTPSConnectionPool(host='ems.ntu.edu.tw', port=443): Max retries exceeded with url: /forum/ (Caused by NewConnectionError('<urllib3.connection.HTTPSConnection object at 0x7f33b07b9250>: Failed to establish a new connection: [Errno -2] Name or service not known'))\n",
      " 42%|████▏     | 1047/2510 [15:02<09:33,  2.55it/s]The headers kwarg is set but the url kwarg is not. The headers kwarg will be ignored.\n"
     ]
    },
    {
     "name": "stdout",
     "output_type": "stream",
     "text": [
      "*ERROR* //youtube.com/embed/CtuRPXfUPNg?fs=1&autoplay=1&rel=1\n"
     ]
    },
    {
     "name": "stderr",
     "output_type": "stream",
     "text": [
      " 43%|████▎     | 1084/2510 [15:34<22:28,  1.06it/s]  Error fetching or processing https://ems.ntu.edu.tw/visiting_activities/, exception: HTTPSConnectionPool(host='ems.ntu.edu.tw', port=443): Max retries exceeded with url: /visiting_activities/ (Caused by NewConnectionError('<urllib3.connection.HTTPSConnection object at 0x7f33d7e6eed0>: Failed to establish a new connection: [Errno -2] Name or service not known'))\n",
      " 44%|████▍     | 1105/2510 [15:41<11:49,  1.98it/s]Error fetching or processing http://tul.blog.ntu.edu.tw/archives/20907, exception: ('Connection aborted.', ConnectionResetError(104, 'Connection reset by peer'))\n",
      " 44%|████▍     | 1112/2510 [15:41<04:02,  5.77it/s]Error fetching or processing https://ems.ntu.edu.tw/entrepreneurship_innovation_forum/, exception: HTTPSConnectionPool(host='ems.ntu.edu.tw', port=443): Max retries exceeded with url: /entrepreneurship_innovation_forum/ (Caused by NewConnectionError('<urllib3.connection.HTTPSConnection object at 0x7f33d7e32190>: Failed to establish a new connection: [Errno -2] Name or service not known'))\n",
      " 45%|████▍     | 1121/2510 [15:45<09:54,  2.34it/s]Error fetching or processing https://ems.ntu.edu.tw/edu-course-category/logic_thinking/, exception: HTTPSConnectionPool(host='ems.ntu.edu.tw', port=443): Max retries exceeded with url: /edu-course-category/logic_thinking/ (Caused by NewConnectionError('<urllib3.connection.HTTPSConnection object at 0x7f33b07d29d0>: Failed to establish a new connection: [Errno -2] Name or service not known'))\n",
      " 50%|████▉     | 1253/2510 [17:52<05:47,  3.62it/s]  Error fetching or processing https://ems.ntu.edu.tw/recruit/, exception: HTTPSConnectionPool(host='ems.ntu.edu.tw', port=443): Max retries exceeded with url: /recruit/ (Caused by NewConnectionError('<urllib3.connection.HTTPSConnection object at 0x7f33d7d2e0d0>: Failed to establish a new connection: [Errno -2] Name or service not known'))\n",
      " 53%|█████▎    | 1331/2510 [18:54<04:34,  4.29it/s]  Error fetching or processing https://webpageprodvm.ntu.edu.tw/colsciae.lifescience/Default.aspx, exception: Invalid input object: NoneType\n",
      " 56%|█████▌    | 1408/2510 [20:36<10:46,  1.71it/s]  The headers kwarg is set but the url kwarg is not. The headers kwarg will be ignored.\n",
      " 56%|█████▌    | 1411/2510 [20:36<06:01,  3.04it/s]"
     ]
    },
    {
     "name": "stdout",
     "output_type": "stream",
     "text": [
      "*ERROR* //rx.mc.ntu.edu.tw/NMRbooking/\n"
     ]
    },
    {
     "name": "stderr",
     "output_type": "stream",
     "text": [
      " 59%|█████▉    | 1482/2510 [21:36<15:46,  1.09it/s]  The headers kwarg is set but the url kwarg is not. The headers kwarg will be ignored.\n"
     ]
    },
    {
     "name": "stdout",
     "output_type": "stream",
     "text": [
      "*ERROR* //sp.mc.ntu.edu.tw/mySOP/sopPage.php?&myrub=donation\n"
     ]
    },
    {
     "name": "stderr",
     "output_type": "stream",
     "text": [
      " 61%|██████▏   | 1543/2510 [23:27<26:30,  1.65s/it]  The headers kwarg is set but the url kwarg is not. The headers kwarg will be ignored.\n",
      " 62%|██████▏   | 1546/2510 [23:28<12:16,  1.31it/s]"
     ]
    },
    {
     "name": "stdout",
     "output_type": "stream",
     "text": [
      "*ERROR* //rx.mc.ntu.edu.tw/alumni/\n"
     ]
    },
    {
     "name": "stderr",
     "output_type": "stream",
     "text": [
      " 63%|██████▎   | 1591/2510 [23:54<06:51,  2.23it/s]The headers kwarg is set but the url kwarg is not. The headers kwarg will be ignored.\n",
      " 64%|██████▎   | 1594/2510 [23:55<03:45,  4.06it/s]"
     ]
    },
    {
     "name": "stdout",
     "output_type": "stream",
     "text": [
      "*ERROR* //youtube.com/embed/4UuLsctO-1M?fs=1&autoplay=1&rel=1\n"
     ]
    },
    {
     "name": "stderr",
     "output_type": "stream",
     "text": [
      " 67%|██████▋   | 1677/2510 [24:57<17:59,  1.30s/it]The headers kwarg is set but the url kwarg is not. The headers kwarg will be ignored.\n",
      " 67%|██████▋   | 1680/2510 [24:57<08:41,  1.59it/s]"
     ]
    },
    {
     "name": "stdout",
     "output_type": "stream",
     "text": [
      "*ERROR* //youtube.com/embed/aA37XK2qO1s?fs=1&autoplay=1&rel=1\n"
     ]
    },
    {
     "name": "stderr",
     "output_type": "stream",
     "text": [
      " 67%|██████▋   | 1683/2510 [24:58<06:08,  2.24it/s]Error fetching or processing https://ems.ntu.edu.tw/concept/, exception: HTTPSConnectionPool(host='ems.ntu.edu.tw', port=443): Max retries exceeded with url: /concept/ (Caused by NewConnectionError('<urllib3.connection.HTTPSConnection object at 0x7f33d7d21f10>: Failed to establish a new connection: [Errno -2] Name or service not known'))\n",
      " 70%|███████   | 1757/2510 [25:25<03:26,  3.65it/s]Error fetching or processing https://ems.ntu.edu.tw/admissions_activities/, exception: HTTPSConnectionPool(host='ems.ntu.edu.tw', port=443): Max retries exceeded with url: /admissions_activities/ (Caused by NewConnectionError('<urllib3.connection.HTTPSConnection object at 0x7f33d7ec2790>: Failed to establish a new connection: [Errno -2] Name or service not known'))\n",
      " 71%|███████   | 1775/2510 [25:52<41:34,  3.39s/it]Error fetching or processing https://ems.ntu.edu.tw/visit/, exception: HTTPSConnectionPool(host='ems.ntu.edu.tw', port=443): Max retries exceeded with url: /visit/ (Caused by NewConnectionError('<urllib3.connection.HTTPSConnection object at 0x7f33bc273350>: Failed to establish a new connection: [Errno -2] Name or service not known'))\n",
      " 73%|███████▎  | 1839/2510 [26:21<06:27,  1.73it/s]Error fetching or processing http://homepage.ntu.edu.tw/~linth/index.110.htm, exception: 'big5' codec can't decode byte 0xf9 in position 162436: illegal multibyte sequence\n",
      " 73%|███████▎  | 1840/2510 [26:21<05:24,  2.06it/s]The headers kwarg is set but the url kwarg is not. The headers kwarg will be ignored.\n"
     ]
    },
    {
     "name": "stdout",
     "output_type": "stream",
     "text": [
      "*ERROR* //rx.mc.ntu.edu.tw/MRBS/\n"
     ]
    },
    {
     "name": "stderr",
     "output_type": "stream",
     "text": [
      " 75%|███████▍  | 1876/2510 [26:39<06:34,  1.61it/s]The headers kwarg is set but the url kwarg is not. The headers kwarg will be ignored.\n"
     ]
    },
    {
     "name": "stdout",
     "output_type": "stream",
     "text": [
      "*ERROR* //sp.mc.ntu.edu.tw/mySOP/sopPageII.php?malangue=&myrub=calendar\n"
     ]
    },
    {
     "name": "stderr",
     "output_type": "stream",
     "text": [
      " 78%|███████▊  | 1962/2510 [27:44<09:23,  1.03s/it]Error fetching or processing https://ems.ntu.edu.tw/, exception: HTTPSConnectionPool(host='ems.ntu.edu.tw', port=443): Max retries exceeded with url: / (Caused by NewConnectionError('<urllib3.connection.HTTPSConnection object at 0x7f33d7e6d250>: Failed to establish a new connection: [Errno -2] Name or service not known'))\n",
      " 80%|███████▉  | 1999/2510 [28:08<05:48,  1.47it/s]The headers kwarg is set but the url kwarg is not. The headers kwarg will be ignored.\n"
     ]
    },
    {
     "name": "stdout",
     "output_type": "stream",
     "text": [
      "*ERROR* //youtube.com/embed/yfOOUw_uSgM?fs=1&autoplay=1&rel=1\n"
     ]
    },
    {
     "name": "stderr",
     "output_type": "stream",
     "text": [
      " 81%|████████  | 2035/2510 [28:20<04:26,  1.78it/s]The headers kwarg is set but the url kwarg is not. The headers kwarg will be ignored.\n"
     ]
    },
    {
     "name": "stdout",
     "output_type": "stream",
     "text": [
      "*ERROR* //youtube.com/embed/JpNoV3WQs1A?fs=1&autoplay=1&rel=1\n"
     ]
    },
    {
     "name": "stderr",
     "output_type": "stream",
     "text": [
      " 82%|████████▏ | 2050/2510 [28:24<02:16,  3.37it/s]Error fetching or processing https://ems.ntu.edu.tw/group/, exception: HTTPSConnectionPool(host='ems.ntu.edu.tw', port=443): Max retries exceeded with url: /group/ (Caused by NewConnectionError('<urllib3.connection.HTTPSConnection object at 0x7f33d7e6c350>: Failed to establish a new connection: [Errno -2] Name or service not known'))\n",
      " 91%|█████████ | 2272/2510 [30:22<02:34,  1.54it/s]The headers kwarg is set but the url kwarg is not. The headers kwarg will be ignored.\n",
      " 91%|█████████ | 2274/2510 [30:22<01:42,  2.29it/s]"
     ]
    },
    {
     "name": "stdout",
     "output_type": "stream",
     "text": [
      "*ERROR* //youtube.com/embed/rvO5EmhkaDg?fs=1&autoplay=1&rel=1\n"
     ]
    },
    {
     "name": "stderr",
     "output_type": "stream",
     "text": [
      " 93%|█████████▎| 2323/2510 [31:16<09:40,  3.10s/it]Error fetching or processing https://ems.ntu.edu.tw/activities/, exception: HTTPSConnectionPool(host='ems.ntu.edu.tw', port=443): Max retries exceeded with url: /activities/ (Caused by NewConnectionError('<urllib3.connection.HTTPSConnection object at 0x7f33d7cf9590>: Failed to establish a new connection: [Errno -2] Name or service not known'))\n",
      " 94%|█████████▍| 2367/2510 [31:48<00:27,  5.29it/s]Error fetching or processing https://ems.ntu.edu.tw/alumni/, exception: HTTPSConnectionPool(host='ems.ntu.edu.tw', port=443): Max retries exceeded with url: /alumni/ (Caused by NewConnectionError('<urllib3.connection.HTTPSConnection object at 0x7f33d7e46750>: Failed to establish a new connection: [Errno -2] Name or service not known'))\n",
      " 96%|█████████▌| 2399/2510 [32:15<00:21,  5.19it/s]The headers kwarg is set but the url kwarg is not. The headers kwarg will be ignored.\n"
     ]
    },
    {
     "name": "stdout",
     "output_type": "stream",
     "text": [
      "*ERROR* //youtube.com/embed/kHwllIhjScI?fs=1&autoplay=1&rel=1\n"
     ]
    },
    {
     "name": "stderr",
     "output_type": "stream",
     "text": [
      " 96%|█████████▋| 2416/2510 [32:27<01:07,  1.39it/s]Error fetching or processing https://ems.ntu.edu.tw, exception: HTTPSConnectionPool(host='ems.ntu.edu.tw', port=443): Max retries exceeded with url: / (Caused by NewConnectionError('<urllib3.connection.HTTPSConnection object at 0x7f33d7bd6650>: Failed to establish a new connection: [Errno -2] Name or service not known'))\n",
      " 98%|█████████▊| 2456/2510 [32:44<00:21,  2.52it/s]The headers kwarg is set but the url kwarg is not. The headers kwarg will be ignored.\n",
      " 98%|█████████▊| 2458/2510 [32:44<00:13,  3.74it/s]"
     ]
    },
    {
     "name": "stdout",
     "output_type": "stream",
     "text": [
      "*ERROR* //youtube.com/embed/lWL8bcnFo3c?fs=1&autoplay=1&rel=1\n"
     ]
    },
    {
     "name": "stderr",
     "output_type": "stream",
     "text": [
      " 99%|█████████▉| 2496/2510 [33:34<00:05,  2.53it/s]The headers kwarg is set but the url kwarg is not. The headers kwarg will be ignored.\n"
     ]
    },
    {
     "name": "stdout",
     "output_type": "stream",
     "text": [
      "*ERROR* //youtube.com/embed/VwJkXbHUfO0?fs=1&autoplay=1&rel=1\n"
     ]
    },
    {
     "name": "stderr",
     "output_type": "stream",
     "text": [
      "100%|██████████| 2510/2510 [33:58<00:00,  1.23it/s]\n"
     ]
    }
   ],
   "source": [
    "from tqdm import tqdm\n",
    "import time\n",
    "\n",
    "content_dict = {'url': [],'timestamp': [], 'content': []}\n",
    "\n",
    "for url in tqdm(df['url']):\n",
    "    if url.endswith('zip'):\n",
    "        continue\n",
    "    content = generate_document(url)\n",
    "    if content is None:\n",
    "        continue\n",
    "    content_dict['url'].append(url)\n",
    "    content_dict['timestamp'].append(time.time())\n",
    "    content_dict['content'].append(content.page_content)"
   ]
  },
  {
   "cell_type": "code",
   "execution_count": 5,
   "metadata": {},
   "outputs": [
    {
     "data": {
      "text/html": [
       "<div>\n",
       "<style scoped>\n",
       "    .dataframe tbody tr th:only-of-type {\n",
       "        vertical-align: middle;\n",
       "    }\n",
       "\n",
       "    .dataframe tbody tr th {\n",
       "        vertical-align: top;\n",
       "    }\n",
       "\n",
       "    .dataframe thead th {\n",
       "        text-align: right;\n",
       "    }\n",
       "</style>\n",
       "<table border=\"1\" class=\"dataframe\">\n",
       "  <thead>\n",
       "    <tr style=\"text-align: right;\">\n",
       "      <th></th>\n",
       "      <th>url</th>\n",
       "      <th>timestamp</th>\n",
       "      <th>content</th>\n",
       "    </tr>\n",
       "  </thead>\n",
       "  <tbody>\n",
       "    <tr>\n",
       "      <th>0</th>\n",
       "      <td>https://webpageprodvm.ntu.edu.tw/SOTRC/News_Li...</td>\n",
       "      <td>1.703259e+09</td>\n",
       "      <td>跳到主要內容區塊 船舶及海洋技術研究中心 首頁大圖 手機版選單 search 搜尋 搜尋 分...</td>\n",
       "    </tr>\n",
       "    <tr>\n",
       "      <th>1</th>\n",
       "      <td>https://www.lis.ntu.edu.tw/?p=11315</td>\n",
       "      <td>1.703259e+09</td>\n",
       "      <td>English  Version 國立臺灣大學圖書資訊學系 Department and G...</td>\n",
       "    </tr>\n",
       "    <tr>\n",
       "      <th>2</th>\n",
       "      <td>https://studyabroad.ntu.edu.tw/exchange-studen...</td>\n",
       "      <td>1.703259e+09</td>\n",
       "      <td>Skip to content 國際交換學生甄選系統登入 國際交換學生甄選系統登入 Main...</td>\n",
       "    </tr>\n",
       "    <tr>\n",
       "      <th>3</th>\n",
       "      <td>https://rsprc.ntu.edu.tw/zh-tw/m06-3/upcoming-...</td>\n",
       "      <td>1.703259e+09</td>\n",
       "      <td>【活動報名】國際學者訪問交流講座 The Electrification of Mobili...</td>\n",
       "    </tr>\n",
       "    <tr>\n",
       "      <th>4</th>\n",
       "      <td>https://ord.ntu.edu.tw/w/ordNTUplan/Login</td>\n",
       "      <td>1.703259e+09</td>\n",
       "      <td>跳到主要內容 文字icon - 會員登入 關閉 搜尋 本校教職員生 校外人士</td>\n",
       "    </tr>\n",
       "  </tbody>\n",
       "</table>\n",
       "</div>"
      ],
      "text/plain": [
       "                                                 url     timestamp  \\\n",
       "0  https://webpageprodvm.ntu.edu.tw/SOTRC/News_Li...  1.703259e+09   \n",
       "1                https://www.lis.ntu.edu.tw/?p=11315  1.703259e+09   \n",
       "2  https://studyabroad.ntu.edu.tw/exchange-studen...  1.703259e+09   \n",
       "3  https://rsprc.ntu.edu.tw/zh-tw/m06-3/upcoming-...  1.703259e+09   \n",
       "4          https://ord.ntu.edu.tw/w/ordNTUplan/Login  1.703259e+09   \n",
       "\n",
       "                                             content  \n",
       "0  跳到主要內容區塊 船舶及海洋技術研究中心 首頁大圖 手機版選單 search 搜尋 搜尋 分...  \n",
       "1  English  Version 國立臺灣大學圖書資訊學系 Department and G...  \n",
       "2  Skip to content 國際交換學生甄選系統登入 國際交換學生甄選系統登入 Main...  \n",
       "3  【活動報名】國際學者訪問交流講座 The Electrification of Mobili...  \n",
       "4             跳到主要內容 文字icon - 會員登入 關閉 搜尋 本校教職員生 校外人士  "
      ]
     },
     "execution_count": 5,
     "metadata": {},
     "output_type": "execute_result"
    }
   ],
   "source": [
    "df = pd.DataFrame(content_dict)\n",
    "df.head()"
   ]
  },
  {
   "cell_type": "code",
   "execution_count": 8,
   "metadata": {},
   "outputs": [
    {
     "data": {
      "text/plain": [
       "348"
      ]
     },
     "execution_count": 8,
     "metadata": {},
     "output_type": "execute_result"
    }
   ],
   "source": [
    "sum(df['content']=='')"
   ]
  },
  {
   "cell_type": "code",
   "execution_count": 7,
   "metadata": {},
   "outputs": [],
   "source": [
    "df.to_csv('document/department_2_content.csv', index=False)"
   ]
  },
  {
   "cell_type": "code",
   "execution_count": null,
   "metadata": {},
   "outputs": [],
   "source": []
  },
  {
   "cell_type": "code",
   "execution_count": null,
   "metadata": {},
   "outputs": [],
   "source": [
    "# import pandas as pd\n",
    "\n",
    "# df2_urls = pd.read_csv('url_department_2_update.csv')\n",
    "# df2_urls.head()"
   ]
  },
  {
   "cell_type": "code",
   "execution_count": null,
   "metadata": {},
   "outputs": [],
   "source": [
    "# from tqdm import tqdm\n",
    "# import time\n",
    "\n",
    "# content_dict = {'url': [],'timestamp': [], 'content': []}\n",
    "\n",
    "# for url in tqdm(df2_urls['url']):\n",
    "#     if url.endswith('zip'):\n",
    "#         continue\n",
    "#     content = generate_document(url)\n",
    "#     if content is None:\n",
    "#         continue\n",
    "#     content_dict['url'].append(url)\n",
    "#     content_dict['timestamp'].append(time.time())\n",
    "#     content_dict['content'].append(content.page_content)"
   ]
  },
  {
   "cell_type": "code",
   "execution_count": null,
   "metadata": {},
   "outputs": [],
   "source": [
    "# df2 = pd.DataFrame(content_dict)\n",
    "# df2.tail()"
   ]
  },
  {
   "cell_type": "code",
   "execution_count": null,
   "metadata": {},
   "outputs": [],
   "source": [
    "# df2.to_csv('document/department_2_content.csv', index=False)"
   ]
  },
  {
   "cell_type": "code",
   "execution_count": null,
   "metadata": {},
   "outputs": [],
   "source": [
    "# len(df2)"
   ]
  },
  {
   "cell_type": "code",
   "execution_count": null,
   "metadata": {},
   "outputs": [],
   "source": [
    "# sum([1 for i in df2['content'] if i==''])"
   ]
  },
  {
   "cell_type": "code",
   "execution_count": null,
   "metadata": {},
   "outputs": [],
   "source": [
    "# def summarize_document(url):\n",
    "#  \"Given an URL return the summary from OpenAI model\"\n",
    "#  openai_key = \"\"\n",
    "#  llm = OpenAI(model_name='ada',temperature=0,openai_api_key=openai_key)\n",
    "#  chain = load_summarize_chain(llm, chain_type=\"stuff\")\n",
    "#  tmp_doc = generate_document(url)\n",
    "#  summary = chain.run([tmp_doc])\n",
    "#  return clean_extra_whitespace(summary)"
   ]
  },
  {
   "cell_type": "code",
   "execution_count": 5,
   "metadata": {},
   "outputs": [
    {
     "name": "stdout",
     "output_type": "stream",
     "text": [
      "http://ntumisrc.blogspot.com/feeds/posts/default\n"
     ]
    },
    {
     "name": "stderr",
     "output_type": "stream",
     "text": [
      "/tmp/ipykernel_577937/1995375940.py:4: MarkupResemblesLocatorWarning: The input looks more like a URL than markup. You may want to use an HTTP client like requests to get the document behind the URL, and feed that document to Beautiful Soup.\n",
      "  soup = BeautifulSoup(html,\"html.parser\")\n"
     ]
    }
   ],
   "source": [
    "from bs4 import BeautifulSoup\n",
    "\n",
    "html = 'http://ntumisrc.blogspot.com/feeds/posts/default'\n",
    "soup = BeautifulSoup(html,\"html.parser\")\n",
    "text = soup.get_text(strip=True)\n",
    "print(text)"
   ]
  },
  {
   "cell_type": "code",
   "execution_count": null,
   "metadata": {},
   "outputs": [],
   "source": []
  }
 ],
 "metadata": {
  "kernelspec": {
   "display_name": "ntugpt",
   "language": "python",
   "name": "python3"
  },
  "language_info": {
   "codemirror_mode": {
    "name": "ipython",
    "version": 3
   },
   "file_extension": ".py",
   "mimetype": "text/x-python",
   "name": "python",
   "nbconvert_exporter": "python",
   "pygments_lexer": "ipython3",
   "version": "3.11.7"
  },
  "orig_nbformat": 4,
  "vscode": {
   "interpreter": {
    "hash": "4921702c1a37a09b19733a4935fcc94c6777668fce9d92053c697eb395fb3b9e"
   }
  }
 },
 "nbformat": 4,
 "nbformat_minor": 2
}
