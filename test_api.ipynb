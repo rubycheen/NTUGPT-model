{
 "cells": [
  {
   "cell_type": "code",
   "execution_count": 7,
   "metadata": {},
   "outputs": [
    {
     "name": "stdout",
     "output_type": "stream",
     "text": [
      "{\"answer\":\"臺大校訓是「敦品勵學，愛國愛人」。\",\"urls\":[\"https://ntuweb.cloud.ntu.edu.tw/ntuebook/cht/2017brief_cht.pdf\",\"https://ntuweb.cloud.ntu.edu.tw/ntuebook/cht/2015overview_cht.pdf\",\"https://ntuweb.cloud.ntu.edu.tw/ntuebook/cht/2018Profile.pdf\",\"https://ntuweb.cloud.ntu.edu.tw/ntuebook/cht/2015overview_cht.pdf\"]}\n"
     ]
    }
   ],
   "source": [
    "import requests\n",
    "\n",
    "url = 'https://9fad-140-112-90-16.ngrok-free.app/predict'\n",
    "data = {'prompt': '台大校訓？'}\n",
    "\n",
    "response = requests.post(url, json=data)\n",
    "print(response.text)"
   ]
  },
  {
   "cell_type": "code",
   "execution_count": 20,
   "metadata": {},
   "outputs": [
    {
     "data": {
      "text/plain": [
       "'臺大校訓是「敦品勵學，愛國愛人」。參考網頁:\\nhttps://ntuweb.cloud.ntu.edu.tw/ntuebook/cht/2017brief_cht.pdf\\nhttps://ntuweb.cloud.ntu.edu.tw/ntuebook/cht/2015overview_cht.pdf\\nhttps://ntuweb.cloud.ntu.edu.tw/ntuebook/cht/2018Profile.pdf\\nhttps://ntuweb.cloud.ntu.edu.tw/ntuebook/cht/2015overview_cht.pdf\\n'"
      ]
     },
     "execution_count": 20,
     "metadata": {},
     "output_type": "execute_result"
    }
   ],
   "source": []
  },
  {
   "cell_type": "code",
   "execution_count": 19,
   "metadata": {},
   "outputs": [
    {
     "data": {
      "text/plain": [
       "'臺大校訓是「敦品勵學，愛國愛人」。參考網頁:\\nhttps://ntuweb.cloud.ntu.edu.tw/ntuebook/cht/2017brief_cht.pdf\\nhttps://ntuweb.cloud.ntu.edu.tw/ntuebook/cht/2015overview_cht.pdf\\nhttps://ntuweb.cloud.ntu.edu.tw/ntuebook/cht/2018Profile.pdf\\nhttps://ntuweb.cloud.ntu.edu.tw/ntuebook/cht/2015overview_cht.pdf\\n'"
      ]
     },
     "execution_count": 19,
     "metadata": {},
     "output_type": "execute_result"
    }
   ],
   "source": []
  },
  {
   "cell_type": "code",
   "execution_count": null,
   "metadata": {},
   "outputs": [],
   "source": []
  }
 ],
 "metadata": {
  "kernelspec": {
   "display_name": "ragas",
   "language": "python",
   "name": "python3"
  },
  "language_info": {
   "codemirror_mode": {
    "name": "ipython",
    "version": 3
   },
   "file_extension": ".py",
   "mimetype": "text/x-python",
   "name": "python",
   "nbconvert_exporter": "python",
   "pygments_lexer": "ipython3",
   "version": "3.11.7"
  }
 },
 "nbformat": 4,
 "nbformat_minor": 2
}
