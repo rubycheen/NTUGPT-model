{
 "cells": [
  {
   "cell_type": "markdown",
   "id": "c0a95872",
   "metadata": {},
   "source": [
    "# HyDE\n",
    "For a given query, HyDE retrieval pipeline contains 4 components:\n",
    "1. Promptor: bulid prompt for generator based on specific task.\n",
    "2. Generator: generates hypothesis documents using Large Language Model.\n",
    "3. Encoder: encode hypothesis documents to HyDE vector.\n",
    "4. Searcher: search nearest neighbour for the HyDE vector (dense retrieval)."
   ]
  },
  {
   "cell_type": "markdown",
   "id": "a1ee489b",
   "metadata": {},
   "source": [
    "### Initialize HyDE components\n",
    "We use [pyserini](https://github.com/castorini/pyserini) as the search interface."
   ]
  },
  {
   "cell_type": "code",
   "execution_count": 1,
   "id": "65c24913",
   "metadata": {},
   "outputs": [
    {
     "ename": "Exception",
     "evalue": "Unable to find javac",
     "output_type": "error",
     "traceback": [
      "\u001b[0;31m---------------------------------------------------------------------------\u001b[0m",
      "\u001b[0;31mTypeError\u001b[0m                                 Traceback (most recent call last)",
      "File \u001b[0;32m~/anaconda3/envs/ntugpt/lib/python3.8/site-packages/jnius/env.py:347\u001b[0m, in \u001b[0;36mget_jdk_home\u001b[0;34m(platform)\u001b[0m\n\u001b[1;32m    346\u001b[0m \u001b[39mtry\u001b[39;00m:\n\u001b[0;32m--> 347\u001b[0m     jdk_home \u001b[39m=\u001b[39m realpath(\n\u001b[1;32m    348\u001b[0m         which(\u001b[39m'\u001b[39;49m\u001b[39mjavac\u001b[39;49m\u001b[39m'\u001b[39;49m)\n\u001b[1;32m    349\u001b[0m     )\u001b[39m.\u001b[39mreplace(\u001b[39m'\u001b[39m\u001b[39mbin/javac\u001b[39m\u001b[39m'\u001b[39m, \u001b[39m'\u001b[39m\u001b[39m'\u001b[39m)\n\u001b[1;32m    350\u001b[0m \u001b[39mexcept\u001b[39;00m \u001b[39mTypeError\u001b[39;00m:\n",
      "File \u001b[0;32m~/anaconda3/envs/ntugpt/lib/python3.8/posixpath.py:390\u001b[0m, in \u001b[0;36mrealpath\u001b[0;34m(filename)\u001b[0m\n\u001b[1;32m    388\u001b[0m \u001b[39m    \u001b[39m\u001b[39m\"\"\"Return the canonical path of the specified filename, eliminating any\u001b[39;00m\n\u001b[1;32m    389\u001b[0m \u001b[39msymbolic links encountered in the path.\"\"\"\u001b[39;00m\n\u001b[0;32m--> 390\u001b[0m     filename \u001b[39m=\u001b[39m os\u001b[39m.\u001b[39;49mfspath(filename)\n\u001b[1;32m    391\u001b[0m     path, ok \u001b[39m=\u001b[39m _joinrealpath(filename[:\u001b[39m0\u001b[39m], filename, {})\n",
      "\u001b[0;31mTypeError\u001b[0m: expected str, bytes or os.PathLike object, not NoneType",
      "\nDuring handling of the above exception, another exception occurred:\n",
      "\u001b[0;31mException\u001b[0m                                 Traceback (most recent call last)",
      "Cell \u001b[0;32mIn[1], line 2\u001b[0m\n\u001b[1;32m      1\u001b[0m \u001b[39mimport\u001b[39;00m \u001b[39mjson\u001b[39;00m\n\u001b[0;32m----> 2\u001b[0m \u001b[39mfrom\u001b[39;00m \u001b[39mpyserini\u001b[39;00m\u001b[39m.\u001b[39;00m\u001b[39msearch\u001b[39;00m \u001b[39mimport\u001b[39;00m FaissSearcher, LuceneSearcher\n\u001b[1;32m      3\u001b[0m \u001b[39mfrom\u001b[39;00m \u001b[39mpyserini\u001b[39;00m\u001b[39m.\u001b[39;00m\u001b[39msearch\u001b[39;00m\u001b[39m.\u001b[39;00m\u001b[39mfaiss\u001b[39;00m \u001b[39mimport\u001b[39;00m AutoQueryEncoder\n\u001b[1;32m      5\u001b[0m \u001b[39mfrom\u001b[39;00m \u001b[39mhyde\u001b[39;00m \u001b[39mimport\u001b[39;00m Promptor, OpenAIGenerator, CohereGenerator, HyDE\n",
      "File \u001b[0;32m~/anaconda3/envs/ntugpt/lib/python3.8/site-packages/pyserini/search/__init__.py:17\u001b[0m\n\u001b[1;32m      1\u001b[0m \u001b[39m#\u001b[39;00m\n\u001b[1;32m      2\u001b[0m \u001b[39m# Pyserini: Reproducible IR research with sparse and dense representations\u001b[39;00m\n\u001b[1;32m      3\u001b[0m \u001b[39m#\u001b[39;00m\n\u001b[0;32m   (...)\u001b[0m\n\u001b[1;32m     14\u001b[0m \u001b[39m# limitations under the License.\u001b[39;00m\n\u001b[1;32m     15\u001b[0m \u001b[39m#\u001b[39;00m\n\u001b[0;32m---> 17\u001b[0m \u001b[39mfrom\u001b[39;00m \u001b[39m.\u001b[39;00m\u001b[39m_base\u001b[39;00m \u001b[39mimport\u001b[39;00m JQuery, JQueryGenerator, JDisjunctionMaxQueryGenerator, get_topics,\\\n\u001b[1;32m     18\u001b[0m     get_topics_with_reader, get_qrels_file, get_qrels\n\u001b[1;32m     19\u001b[0m \u001b[39mfrom\u001b[39;00m \u001b[39m.\u001b[39;00m\u001b[39mlucene\u001b[39;00m \u001b[39mimport\u001b[39;00m JLuceneSearcherResult, LuceneSimilarities, LuceneFusionSearcher, LuceneSearcher\n\u001b[1;32m     20\u001b[0m \u001b[39mfrom\u001b[39;00m \u001b[39m.\u001b[39;00m\u001b[39mlucene\u001b[39;00m \u001b[39mimport\u001b[39;00m JImpactSearcherResult, LuceneImpactSearcher\n",
      "File \u001b[0;32m~/anaconda3/envs/ntugpt/lib/python3.8/site-packages/pyserini/search/_base.py:26\u001b[0m\n\u001b[1;32m     23\u001b[0m \u001b[39mimport\u001b[39;00m \u001b[39mos\u001b[39;00m\n\u001b[1;32m     25\u001b[0m \u001b[39mfrom\u001b[39;00m \u001b[39mpyserini\u001b[39;00m\u001b[39m.\u001b[39;00m\u001b[39mutil\u001b[39;00m \u001b[39mimport\u001b[39;00m get_cache_home\n\u001b[0;32m---> 26\u001b[0m \u001b[39mfrom\u001b[39;00m \u001b[39mpyserini\u001b[39;00m\u001b[39m.\u001b[39;00m\u001b[39mpyclass\u001b[39;00m \u001b[39mimport\u001b[39;00m autoclass\n\u001b[1;32m     28\u001b[0m logger \u001b[39m=\u001b[39m logging\u001b[39m.\u001b[39mgetLogger(\u001b[39m__name__\u001b[39m)\n\u001b[1;32m     30\u001b[0m \u001b[39m# Wrappers around Lucene classes\u001b[39;00m\n",
      "File \u001b[0;32m~/anaconda3/envs/ntugpt/lib/python3.8/site-packages/pyserini/pyclass.py:27\u001b[0m\n\u001b[1;32m     23\u001b[0m \u001b[39m# If the environment variable isn't defined, look in the current directory.\u001b[39;00m\n\u001b[1;32m     24\u001b[0m configure_classpath(os\u001b[39m.\u001b[39menviron[\u001b[39m'\u001b[39m\u001b[39mANSERINI_CLASSPATH\u001b[39m\u001b[39m'\u001b[39m] \u001b[39mif\u001b[39;00m \u001b[39m'\u001b[39m\u001b[39mANSERINI_CLASSPATH\u001b[39m\u001b[39m'\u001b[39m \u001b[39min\u001b[39;00m os\u001b[39m.\u001b[39menviron \u001b[39melse\u001b[39;00m\n\u001b[1;32m     25\u001b[0m                     os\u001b[39m.\u001b[39mpath\u001b[39m.\u001b[39mjoin(os\u001b[39m.\u001b[39mpath\u001b[39m.\u001b[39msplit(\u001b[39m__file__\u001b[39m)[\u001b[39m0\u001b[39m], \u001b[39m'\u001b[39m\u001b[39mresources/jars/\u001b[39m\u001b[39m'\u001b[39m))\n\u001b[0;32m---> 27\u001b[0m \u001b[39mfrom\u001b[39;00m \u001b[39mjnius\u001b[39;00m \u001b[39mimport\u001b[39;00m autoclass, cast\n\u001b[1;32m     29\u001b[0m \u001b[39m# Base Java classes\u001b[39;00m\n\u001b[1;32m     30\u001b[0m JString \u001b[39m=\u001b[39m autoclass(\u001b[39m'\u001b[39m\u001b[39mjava.lang.String\u001b[39m\u001b[39m'\u001b[39m)\n",
      "File \u001b[0;32m~/anaconda3/envs/ntugpt/lib/python3.8/site-packages/jnius/__init__.py:45\u001b[0m\n\u001b[1;32m     43\u001b[0m \u001b[39melse\u001b[39;00m:\n\u001b[1;32m     44\u001b[0m     \u001b[39mfrom\u001b[39;00m \u001b[39m.\u001b[39;00m\u001b[39mjnius\u001b[39;00m \u001b[39mimport\u001b[39;00m \u001b[39m*\u001b[39m  \u001b[39m# noqa\u001b[39;00m\n\u001b[0;32m---> 45\u001b[0m     \u001b[39mfrom\u001b[39;00m \u001b[39m.\u001b[39;00m\u001b[39mreflect\u001b[39;00m \u001b[39mimport\u001b[39;00m \u001b[39m*\u001b[39m  \u001b[39m# noqa\u001b[39;00m\n\u001b[1;32m     47\u001b[0m \u001b[39m# XXX monkey patch methods that cannot be in cython.\u001b[39;00m\n\u001b[1;32m     48\u001b[0m \u001b[39m# Cython doesn't allow to set new attribute on methods it compiled\u001b[39;00m\n\u001b[1;32m     50\u001b[0m HASHCODE_MAX \u001b[39m=\u001b[39m \u001b[39m2\u001b[39m \u001b[39m*\u001b[39m\u001b[39m*\u001b[39m \u001b[39m31\u001b[39m \u001b[39m-\u001b[39m \u001b[39m1\u001b[39m\n",
      "File \u001b[0;32m~/anaconda3/envs/ntugpt/lib/python3.8/site-packages/jnius/reflect.py:19\u001b[0m\n\u001b[1;32m     14\u001b[0m __all__ \u001b[39m=\u001b[39m (\u001b[39m'\u001b[39m\u001b[39mautoclass\u001b[39m\u001b[39m'\u001b[39m, \u001b[39m'\u001b[39m\u001b[39mensureclass\u001b[39m\u001b[39m'\u001b[39m, \u001b[39m'\u001b[39m\u001b[39mprotocol_map\u001b[39m\u001b[39m'\u001b[39m)\n\u001b[1;32m     16\u001b[0m log \u001b[39m=\u001b[39m logging\u001b[39m.\u001b[39mgetLogger(\u001b[39m'\u001b[39m\u001b[39mkivy\u001b[39m\u001b[39m'\u001b[39m)\u001b[39m.\u001b[39mgetChild(\u001b[39m__name__\u001b[39m)\n\u001b[0;32m---> 19\u001b[0m \u001b[39mclass\u001b[39;00m \u001b[39mClass\u001b[39;00m(JavaClass, metaclass\u001b[39m=\u001b[39mMetaJavaClass):\n\u001b[1;32m     20\u001b[0m     __javaclass__ \u001b[39m=\u001b[39m \u001b[39m'\u001b[39m\u001b[39mjava/lang/Class\u001b[39m\u001b[39m'\u001b[39m\n\u001b[1;32m     22\u001b[0m     desiredAssertionStatus \u001b[39m=\u001b[39m JavaMethod(\u001b[39m'\u001b[39m\u001b[39m()Z\u001b[39m\u001b[39m'\u001b[39m)\n",
      "File \u001b[0;32mjnius/jnius_export_class.pxi:117\u001b[0m, in \u001b[0;36mjnius.MetaJavaClass.__new__\u001b[0;34m()\u001b[0m\n",
      "File \u001b[0;32mjnius/jnius_export_class.pxi:177\u001b[0m, in \u001b[0;36mjnius.MetaJavaClass.resolve_class\u001b[0;34m()\u001b[0m\n",
      "File \u001b[0;32mjnius/jnius_env.pxi:11\u001b[0m, in \u001b[0;36mjnius.get_jnienv\u001b[0;34m()\u001b[0m\n",
      "File \u001b[0;32mjnius/jnius_jvm_dlopen.pxi:95\u001b[0m, in \u001b[0;36mjnius.get_platform_jnienv\u001b[0;34m()\u001b[0m\n",
      "File \u001b[0;32mjnius/jnius_jvm_dlopen.pxi:54\u001b[0m, in \u001b[0;36mjnius.create_jnienv\u001b[0;34m()\u001b[0m\n",
      "File \u001b[0;32m~/anaconda3/envs/ntugpt/lib/python3.8/site-packages/jnius/env.py:60\u001b[0m, in \u001b[0;36mget_java_setup\u001b[0;34m(platform)\u001b[0m\n\u001b[1;32m     58\u001b[0m \u001b[39m# go hunting for Javac and Java programs, in that order\u001b[39;00m\n\u001b[1;32m     59\u001b[0m \u001b[39mif\u001b[39;00m \u001b[39mnot\u001b[39;00m is_set(JAVA_HOME):\n\u001b[0;32m---> 60\u001b[0m     JAVA_HOME \u001b[39m=\u001b[39m get_jdk_home(platform)\n\u001b[1;32m     62\u001b[0m \u001b[39mif\u001b[39;00m \u001b[39mnot\u001b[39;00m is_set(JAVA_HOME):\n\u001b[1;32m     63\u001b[0m     JAVA_HOME \u001b[39m=\u001b[39m get_jre_home(platform)\n",
      "File \u001b[0;32m~/anaconda3/envs/ntugpt/lib/python3.8/site-packages/jnius/env.py:351\u001b[0m, in \u001b[0;36mget_jdk_home\u001b[0;34m(platform)\u001b[0m\n\u001b[1;32m    347\u001b[0m             jdk_home \u001b[39m=\u001b[39m realpath(\n\u001b[1;32m    348\u001b[0m                 which(\u001b[39m'\u001b[39m\u001b[39mjavac\u001b[39m\u001b[39m'\u001b[39m)\n\u001b[1;32m    349\u001b[0m             )\u001b[39m.\u001b[39mreplace(\u001b[39m'\u001b[39m\u001b[39mbin/javac\u001b[39m\u001b[39m'\u001b[39m, \u001b[39m'\u001b[39m\u001b[39m'\u001b[39m)\n\u001b[1;32m    350\u001b[0m         \u001b[39mexcept\u001b[39;00m \u001b[39mTypeError\u001b[39;00m:\n\u001b[0;32m--> 351\u001b[0m             \u001b[39mraise\u001b[39;00m \u001b[39mException\u001b[39;00m(\u001b[39m'\u001b[39m\u001b[39mUnable to find javac\u001b[39m\u001b[39m'\u001b[39m)\n\u001b[1;32m    353\u001b[0m \u001b[39mif\u001b[39;00m \u001b[39mnot\u001b[39;00m jdk_home \u001b[39mor\u001b[39;00m \u001b[39mnot\u001b[39;00m exists(jdk_home):\n\u001b[1;32m    354\u001b[0m     \u001b[39mreturn\u001b[39;00m \u001b[39mNone\u001b[39;00m\n",
      "\u001b[0;31mException\u001b[0m: Unable to find javac"
     ]
    }
   ],
   "source": [
    "import json\n",
    "from pyserini.search import FaissSearcher, LuceneSearcher\n",
    "from pyserini.search.faiss import AutoQueryEncoder\n",
    "\n",
    "from hyde import Promptor, OpenAIGenerator, CohereGenerator, HyDE"
   ]
  },
  {
   "cell_type": "code",
   "execution_count": 2,
   "id": "dcb0db43",
   "metadata": {},
   "outputs": [],
   "source": [
    "KEY = '<api key>' # replace with your API key, it can be OpenAI api key or Cohere api key\n",
    "promptor = Promptor('web search')\n",
    "generator = OpenAIGenerator('text-davinci-003', KEY)\n",
    "encoder = AutoQueryEncoder(encoder_dir='facebook/contriever', pooling='mean')\n",
    "searcher = FaissSearcher('contriever_msmarco_index/', encoder)\n",
    "corpus = LuceneSearcher.from_prebuilt_index('msmarco-v1-passage')"
   ]
  },
  {
   "cell_type": "markdown",
   "id": "d0fe1eb3",
   "metadata": {},
   "source": [
    "### Build a HyDE pipeline"
   ]
  },
  {
   "cell_type": "code",
   "execution_count": 27,
   "id": "ccacadc5",
   "metadata": {},
   "outputs": [],
   "source": [
    "hyde = HyDE(promptor, generator, encoder, searcher)"
   ]
  },
  {
   "cell_type": "markdown",
   "id": "1ee99483",
   "metadata": {},
   "source": [
    "### Load example Query"
   ]
  },
  {
   "cell_type": "code",
   "execution_count": 37,
   "id": "b8d1a85c",
   "metadata": {},
   "outputs": [],
   "source": [
    "query = 'how long does it take to remove wisdom tooth'"
   ]
  },
  {
   "cell_type": "markdown",
   "id": "4c3be967",
   "metadata": {},
   "source": [
    "### Build Zeroshot Prompt"
   ]
  },
  {
   "cell_type": "code",
   "execution_count": 38,
   "id": "a6e0eecc",
   "metadata": {},
   "outputs": [
    {
     "name": "stdout",
     "output_type": "stream",
     "text": [
      "Please write a passage to answer the question.\n",
      "Question: how long does it take to remove wisdom tooth\n",
      "Passage:\n"
     ]
    }
   ],
   "source": [
    "prompt = hyde.prompt(query)\n",
    "print(prompt)"
   ]
  },
  {
   "cell_type": "markdown",
   "id": "1821d8b9",
   "metadata": {},
   "source": [
    "### Generate Hypothesis Documents"
   ]
  },
  {
   "cell_type": "code",
   "execution_count": 39,
   "id": "4032c2b7",
   "metadata": {},
   "outputs": [
    {
     "name": "stdout",
     "output_type": "stream",
     "text": [
      "HyDE Generated Document: 0\n",
      "There is no one-size-fits-all answer to this question, as the time it takes to remove a wisdom tooth can vary depending on the individual case. In general, however, the procedure usually takes around 30 minutes to an hour to complete.\n",
      "HyDE Generated Document: 1\n",
      "It generally takes around 30 to 45 minutes to remove a wisdom tooth. However, the time may vary depending on the position of the tooth and the amount of work required.\n",
      "HyDE Generated Document: 2\n",
      "It usually takes around 30 to 45 minutes to remove a wisdom tooth. However, the length of time may vary depending on the individual case.\n",
      "HyDE Generated Document: 3\n",
      "It can take anywhere from a few days to a few weeks to remove a wisdom tooth. The length of time will depend on the individual case and the severity of the tooth.\n",
      "HyDE Generated Document: 4\n",
      "The length of time it takes to remove a wisdom tooth varies depending on the tooth's position and the amount of bone surrounding it. The procedure can take anywhere from 20 minutes to an hour.\n",
      "HyDE Generated Document: 5\n",
      "The length of time it takes to remove a wisdom tooth depends on a few factors, such as the position of the tooth and the type of extraction (simple or surgical). A simple extraction is typically quicker, taking about 20 minutes, while a surgical extraction can take up to an hour.\n",
      "HyDE Generated Document: 6\n",
      "It can take anywhere from a few days to a couple of weeks to recover from having your wisdom teeth removed. The actual procedure itself is usually over within an hour or so, but it can take some time for the numbing medication to wear off and for the swelling to go down.\n",
      "HyDE Generated Document: 7\n",
      "It generally takes around 20 minutes to remove a wisdom tooth. However, the time may vary depending on the individual case. In some cases, the tooth may be removed in just a few minutes, while in others it may take up to an hour.\n"
     ]
    }
   ],
   "source": [
    "hypothesis_documents = hyde.generate(query)\n",
    "for i, doc in enumerate(hypothesis_documents):\n",
    "    print(f'HyDE Generated Document: {i}')\n",
    "    print(doc.strip())"
   ]
  },
  {
   "cell_type": "markdown",
   "id": "022a4cd8",
   "metadata": {},
   "source": [
    "### Encode HyDE vector"
   ]
  },
  {
   "cell_type": "code",
   "execution_count": 40,
   "id": "cdb4e5b9",
   "metadata": {},
   "outputs": [
    {
     "name": "stdout",
     "output_type": "stream",
     "text": [
      "(1, 768)\n"
     ]
    }
   ],
   "source": [
    "hyde_vector = hyde.encode(query, hypothesis_documents)\n",
    "print(hyde_vector.shape)"
   ]
  },
  {
   "cell_type": "markdown",
   "id": "fe95165a",
   "metadata": {},
   "source": [
    "### Search Relevant Documents"
   ]
  },
  {
   "cell_type": "code",
   "execution_count": 41,
   "id": "8ae97c0a",
   "metadata": {},
   "outputs": [
    {
     "name": "stdout",
     "output_type": "stream",
     "text": [
      "HyDE Retrieved Document: 0\n",
      "4174313\n",
      "The time it takes to remove the tooth will vary. Some procedures only take a few minutes, whereas others can take 20 minutes or longer. After your wisdom teeth have been removed, you may experience swelling and discomfort, both on the inside and outside of your mouth.This is usually worse for the first three days, but it can last for up to two weeks. Read more about how a wisdom tooth is removed and recovering from wisdom tooth removal.he time it takes to remove the tooth will vary. Some procedures only take a few minutes, whereas others can take 20 minutes or longer. After your wisdom teeth have been removed, you may experience swelling and discomfort, both on the inside and outside of your mouth.\n",
      "HyDE Retrieved Document: 1\n",
      "18103\n",
      "Before having your wisdom teeth removed, you'll be given an injection of local anaesthetic to numb the tooth and surrounding area. If you're particularly anxious about the procedure, your dentist or surgeon may give you a sedative to help you relax. This usually involves an injection into your arm.urgery to remove wisdom teeth shouldn't be painful, because the area will be numb. However, if you feel pain during the procedure, tell your dentist or oral surgeon so they can give you more anaesthetic. How long it takes to remove the tooth will vary.\n",
      "HyDE Retrieved Document: 2\n",
      "91493\n",
      "The time it takes to remove the tooth will vary. Some procedures only take a few minutes, whereas others can take 20 minutes or longer. After your wisdom teeth have been removed, you may experience swelling and discomfort, both on the inside and outside of your mouth. This is usually worse for the first three days, but it can last for up to two weeks. Read more about how a wisdom tooth is removed and recovering from wisdom tooth removal.\n",
      "HyDE Retrieved Document: 3\n",
      "4155912\n",
      "How long does it take to remove all wisdom teeth?   I got my wisdom teeth removed 5 days ago. I received intravenous anesthesia, so I was not concious during the process, but those present said it only took about 35 to 40â¦ minutes for removal.\n",
      "HyDE Retrieved Document: 4\n",
      "7344529\n",
      "Complications like infection can lengthen the time it takes to heal up, but here is a general timeline: 1  Swelling and pain will be the greatest during the first 3 days (peaking at about 48hours). 2  Normally, the sockets should take about 2 weeks to 1 month to cover over with solid gum tissue after scabbing first.\n",
      "HyDE Retrieved Document: 5\n",
      "4174308\n",
      "How wisdom teeth are removed. Your dentist may remove your wisdom teeth or they may refer you to a specialist surgeon for hospital treatment. Before the procedure, you'll usually be given a local anaesthetic injection to numb the area around the tooth.he time it takes to remove the tooth will vary. Some procedures only take a few minutes, whereas others can take 20 minutes or longer. After your wisdom teeth have been removed, you may experience swelling and discomfort, both on the inside and outside of your mouth.\n",
      "HyDE Retrieved Document: 6\n",
      "4174310\n",
      "If your dentist thinks you may need your wisdom teeth removed, they'll usually carry out an X-ray of your mouth. This gives them a clearer view of the position of your teeth. As with any teeth problems, it's important to see your dentist as soon as possible, rather than waiting for your regular dental check-up.he time it takes to remove the tooth will vary. Some procedures only take a few minutes, whereas others can take 20 minutes or longer. After your wisdom teeth have been removed, you may experience swelling and discomfort, both on the inside and outside of your mouth.\n",
      "HyDE Retrieved Document: 7\n",
      "4595794\n",
      "If you have a dentist remove your wisdom teeth, i can take between 20 minutes and three hours per tooth. If you get a surgeon to remove your wisdom teeth, it takes between 30 seconds and five minutes per tooth. To find out more on wisdom teeth surgery and the approximate times on surgery as well as post-operative instructions, go to http://dentalimplantsaustralia.com/. Source(s): http://dentalimplantsaustralia.com/.\n",
      "HyDE Retrieved Document: 8\n",
      "4159345\n",
      "How long does it take to heal after your wisdom teeth are removed. As with any type of surgery, everyone heals differently, but it usually takes between 10 days to 2 weeks for wisdom teeth removal.\n",
      "HyDE Retrieved Document: 9\n",
      "2940180\n",
      "You shouldn't even brush your teeth for the first day of recovery. According to the offices of practicing oral surgeon Dr. Joseph Arzadon of Arlington, Virginia, typical wisdom teeth recovery time is three to four days, although it can be as long as one week. The length of recovery depends a lot on how badly the wisdom teeth were impacted and how they were erupting.\n"
     ]
    }
   ],
   "source": [
    "hits = hyde.search(hyde_vector, k=10)\n",
    "for i, hit in enumerate(hits):\n",
    "    print(f'HyDE Retrieved Document: {i}')\n",
    "    print(hit.docid)\n",
    "    print(json.loads(corpus.doc(hit.docid).raw())['contents'])"
   ]
  },
  {
   "cell_type": "markdown",
   "id": "a2edb68c",
   "metadata": {},
   "source": [
    "### End to End Search\n",
    "\n",
    "e2e search will directly go through all the steps descripted above."
   ]
  },
  {
   "cell_type": "code",
   "execution_count": 42,
   "id": "47e9f353",
   "metadata": {},
   "outputs": [
    {
     "name": "stdout",
     "output_type": "stream",
     "text": [
      "HyDE Retrieved Document: 0\n",
      "4174313\n",
      "The time it takes to remove the tooth will vary. Some procedures only take a few minutes, whereas others can take 20 minutes or longer. After your wisdom teeth have been removed, you may experience swelling and discomfort, both on the inside and outside of your mouth.This is usually worse for the first three days, but it can last for up to two weeks. Read more about how a wisdom tooth is removed and recovering from wisdom tooth removal.he time it takes to remove the tooth will vary. Some procedures only take a few minutes, whereas others can take 20 minutes or longer. After your wisdom teeth have been removed, you may experience swelling and discomfort, both on the inside and outside of your mouth.\n",
      "HyDE Retrieved Document: 1\n",
      "91493\n",
      "The time it takes to remove the tooth will vary. Some procedures only take a few minutes, whereas others can take 20 minutes or longer. After your wisdom teeth have been removed, you may experience swelling and discomfort, both on the inside and outside of your mouth. This is usually worse for the first three days, but it can last for up to two weeks. Read more about how a wisdom tooth is removed and recovering from wisdom tooth removal.\n",
      "HyDE Retrieved Document: 2\n",
      "4155912\n",
      "How long does it take to remove all wisdom teeth?   I got my wisdom teeth removed 5 days ago. I received intravenous anesthesia, so I was not concious during the process, but those present said it only took about 35 to 40â¦ minutes for removal.\n",
      "HyDE Retrieved Document: 3\n",
      "18103\n",
      "Before having your wisdom teeth removed, you'll be given an injection of local anaesthetic to numb the tooth and surrounding area. If you're particularly anxious about the procedure, your dentist or surgeon may give you a sedative to help you relax. This usually involves an injection into your arm.urgery to remove wisdom teeth shouldn't be painful, because the area will be numb. However, if you feel pain during the procedure, tell your dentist or oral surgeon so they can give you more anaesthetic. How long it takes to remove the tooth will vary.\n",
      "HyDE Retrieved Document: 4\n",
      "7344529\n",
      "Complications like infection can lengthen the time it takes to heal up, but here is a general timeline: 1  Swelling and pain will be the greatest during the first 3 days (peaking at about 48hours). 2  Normally, the sockets should take about 2 weeks to 1 month to cover over with solid gum tissue after scabbing first.\n",
      "HyDE Retrieved Document: 5\n",
      "3654735\n",
      "All surgery is associated with some degree of pain, from mild to severe. If your surgery was more extensive, then you will have more post-operative pain, unfortunately. Typically the pain intensity peaks 6 to 10 hours after the procedures.\n",
      "HyDE Retrieved Document: 6\n",
      "4174308\n",
      "How wisdom teeth are removed. Your dentist may remove your wisdom teeth or they may refer you to a specialist surgeon for hospital treatment. Before the procedure, you'll usually be given a local anaesthetic injection to numb the area around the tooth.he time it takes to remove the tooth will vary. Some procedures only take a few minutes, whereas others can take 20 minutes or longer. After your wisdom teeth have been removed, you may experience swelling and discomfort, both on the inside and outside of your mouth.\n",
      "HyDE Retrieved Document: 7\n",
      "4159345\n",
      "How long does it take to heal after your wisdom teeth are removed. As with any type of surgery, everyone heals differently, but it usually takes between 10 days to 2 weeks for wisdom teeth removal.\n",
      "HyDE Retrieved Document: 8\n",
      "2940180\n",
      "You shouldn't even brush your teeth for the first day of recovery. According to the offices of practicing oral surgeon Dr. Joseph Arzadon of Arlington, Virginia, typical wisdom teeth recovery time is three to four days, although it can be as long as one week. The length of recovery depends a lot on how badly the wisdom teeth were impacted and how they were erupting.\n",
      "HyDE Retrieved Document: 9\n",
      "4595794\n",
      "If you have a dentist remove your wisdom teeth, i can take between 20 minutes and three hours per tooth. If you get a surgeon to remove your wisdom teeth, it takes between 30 seconds and five minutes per tooth. To find out more on wisdom teeth surgery and the approximate times on surgery as well as post-operative instructions, go to http://dentalimplantsaustralia.com/. Source(s): http://dentalimplantsaustralia.com/.\n"
     ]
    }
   ],
   "source": [
    "hits = hyde.e2e_search(query, k=10)\n",
    "for i, hit in enumerate(hits):\n",
    "    print(f'HyDE Retrieved Document: {i}')\n",
    "    print(hit.docid)\n",
    "    print(json.loads(corpus.doc(hit.docid).raw())['contents'])"
   ]
  },
  {
   "cell_type": "code",
   "execution_count": null,
   "id": "578d2ca9",
   "metadata": {},
   "outputs": [],
   "source": []
  }
 ],
 "metadata": {
  "kernelspec": {
   "display_name": "ragas",
   "language": "python",
   "name": "python3"
  },
  "language_info": {
   "codemirror_mode": {
    "name": "ipython",
    "version": 3
   },
   "file_extension": ".py",
   "mimetype": "text/x-python",
   "name": "python",
   "nbconvert_exporter": "python",
   "pygments_lexer": "ipython3",
   "version": "3.11.7"
  },
  "vscode": {
   "interpreter": {
    "hash": "569ebef1ef7711f136d82f1147e387bf7a453dccc6cb43bc3c16f0eb4125826b"
   }
  }
 },
 "nbformat": 4,
 "nbformat_minor": 5
}
