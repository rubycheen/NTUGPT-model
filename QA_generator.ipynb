{
 "cells": [
  {
   "cell_type": "code",
   "execution_count": 2,
   "metadata": {},
   "outputs": [
    {
     "data": {
      "text/plain": [
       "(3110,\n",
       " Document(page_content='Close login 登入 國立臺灣大學 農業化學系 忘記密碼? 國立臺灣大學 農業化學系 首頁 網站導覽 舊網頁 國立臺灣大學 農業化學系 MENU  最新消息 活動資訊 招生訊息 徵才資訊 更多 》 更多 》 更多 》 更多 》 Recent News Events 更多 》 更多 》 農化概況 更多 》 研究成果 更多 》 繽紛花絮 更多 》 Powered by RulingDigital 國立臺灣大學 農業化學系 Copyright © 2015 Department of Agricultural Chemistry, National Taiwan University. All rights reserved. 最佳瀏覽畫面建議使用IE 11版本 、Mozilla Firefox或Google Chrome', metadata={'url': 'https://www.ac.ntu.edu.tw/', 'timestamp': 1702927507.0440347}))"
      ]
     },
     "execution_count": 2,
     "metadata": {},
     "output_type": "execute_result"
    }
   ],
   "source": [
    "import pandas as pd\n",
    "from langchain.document_loaders import DataFrameLoader\n",
    "\n",
    "\n",
    "df = pd.read_csv('document/clean_content_3.csv')\n",
    "\n",
    "\n",
    "loader = DataFrameLoader(df, page_content_column=\"content\")\n",
    "docs = loader.load()\n",
    "len(docs),docs[0]"
   ]
  },
  {
   "cell_type": "code",
   "execution_count": null,
   "metadata": {},
   "outputs": [],
   "source": []
  }
 ],
 "metadata": {
  "kernelspec": {
   "display_name": "ntugpt",
   "language": "python",
   "name": "python3"
  },
  "language_info": {
   "codemirror_mode": {
    "name": "ipython",
    "version": 3
   },
   "file_extension": ".py",
   "mimetype": "text/x-python",
   "name": "python",
   "nbconvert_exporter": "python",
   "pygments_lexer": "ipython3",
   "version": "3.8.18"
  },
  "orig_nbformat": 4,
  "vscode": {
   "interpreter": {
    "hash": "4921702c1a37a09b19733a4935fcc94c6777668fce9d92053c697eb395fb3b9e"
   }
  }
 },
 "nbformat": 4,
 "nbformat_minor": 2
}
