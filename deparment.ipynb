{
 "cells": [
  {
   "cell_type": "code",
   "execution_count": null,
   "metadata": {},
   "outputs": [],
   "source": [
    "import requests\n",
    "from bs4 import BeautifulSoup\n",
    "\n",
    "# url = 'https://www.ntu.edu.tw/'\n",
    "\n",
    "headers = requests.utils.default_headers()\n",
    "\n",
    "headers.update(\n",
    "    {\n",
    "        'User-Agent': 'My User Agent 1.0',\n",
    "    }\n",
    ")\n",
    "\n",
    "url_list = \"https://webpageprod.ntu.edu.tw/ntuweblist.htm\"\n",
    "html_list = requests.get(url_list, headers=headers).text\n",
    "soup_list = BeautifulSoup(html_list, \"html.parser\")"
   ]
  },
  {
   "cell_type": "code",
   "execution_count": null,
   "metadata": {},
   "outputs": [],
   "source": [
    "soup_list"
   ]
  },
  {
   "cell_type": "code",
   "execution_count": null,
   "metadata": {},
   "outputs": [],
   "source": [
    "import re\n",
    "\n",
    "department_url_list = []\n",
    "# print(re.findall('\"C_SiteUrl\":\"(.*)\",', str(soup_list)))\n",
    "for string in re.findall('\"C_SiteUrl\":\".*\"', str(soup_list))[0].split('\"C_SiteUrl\":'):\n",
    "    # print(string)\n",
    "    if string.startswith('\"http'):\n",
    "        department_url_list.append(string.split('\",')[0][1:])\n",
    "        print(string.split('\",')[0][1:])"
   ]
  },
  {
   "cell_type": "code",
   "execution_count": null,
   "metadata": {},
   "outputs": [],
   "source": [
    "import pandas as pd\n",
    "df = pd.DataFrame({'url': department_url_list})\n",
    "df.to_csv('url_department_1.csv', index=False)"
   ]
  },
  {
   "cell_type": "code",
   "execution_count": 1,
   "metadata": {},
   "outputs": [],
   "source": [
    "import os\n",
    "import time\n",
    "import urllib3\n",
    "import requests\n",
    "from bs4 import BeautifulSoup\n",
    "\n",
    "def extract_href(src, history):\n",
    "    headers = requests.utils.default_headers()\n",
    "\n",
    "    headers.update(\n",
    "        {\n",
    "            'User-Agent': 'My User Agent 1.0',\n",
    "        }\n",
    "    )\n",
    "\n",
    "    html = requests.get(src, headers=headers).text\n",
    "\n",
    "    soup = BeautifulSoup(html, \"html.parser\")\n",
    "\n",
    "    links = soup.find_all('a')\n",
    "    href_attributes = [tag.get('href') for tag in links if tag.get('href')]\n",
    "\n",
    "    for idx, href in enumerate(href_attributes):\n",
    "        if href.startswith('http') == False:\n",
    "            href_attributes[idx] = os.path.join(src, href)\n",
    "\n",
    "    checked = []\n",
    "    for href in set(href_attributes):\n",
    "        if href in history:\n",
    "            continue\n",
    "        try:\n",
    "            resp = urllib3.request(\"GET\", href)\n",
    "            time.sleep(10)\n",
    "\n",
    "            if resp.status==200:\n",
    "                # print(f'href: {href}')\n",
    "                checked.append(href)\n",
    "        except:\n",
    "            pass\n",
    "\n",
    "    return checked"
   ]
  },
  {
   "cell_type": "code",
   "execution_count": null,
   "metadata": {},
   "outputs": [],
   "source": [
    "# from tqdm import tqdm \n",
    "# # Phase 2\n",
    "# valid_href_2 = []\n",
    "# for url in tqdm(department_url_list):\n",
    "#     try:\n",
    "#         valid_href_2.append(extract_href(url, department_url_list))\n",
    "#     except:\n",
    "#         print(f'url: {url}')"
   ]
  },
  {
   "cell_type": "code",
   "execution_count": null,
   "metadata": {},
   "outputs": [],
   "source": [
    "# import pandas as pd\n",
    "\n",
    "# print(len(set([ll for l in valid_href_2 for ll in l])))\n",
    "# df2 = pd.DataFrame({'url':  list(set([ll for l in valid_href_2 for ll in l]))})\n",
    "# df2.to_csv('url_department_2.csv', index=False)"
   ]
  },
  {
   "cell_type": "code",
   "execution_count": 1,
   "metadata": {},
   "outputs": [
    {
     "data": {
      "text/plain": [
       "56"
      ]
     },
     "execution_count": 1,
     "metadata": {},
     "output_type": "execute_result"
    }
   ],
   "source": [
    "# from langchain.document_loaders.recursive_url_loader import RecursiveUrlLoader\n",
    "# from bs4 import BeautifulSoup as Soup\n",
    "\n",
    "\n",
    "# url = \"https://www.ntu.edu.tw/\"\n",
    "# url_list = \"https://webpageprod.ntu.edu.tw/ntuweblist.htm\"\n",
    "\n",
    "# loader = RecursiveUrlLoader(url, \n",
    "#                             headers={\n",
    "#                                 'User-Agent': 'My User Agent 1.0',\n",
    "#                                 \"Accept\": \"text/html,application/xhtml+xml,application/xml;q=0.9,image/webp,*/*\"\n",
    "#                                 \";q=0.8\",\n",
    "#                                 \"Accept-Language\": \"en-US,en;q=0.5\",\n",
    "#                                 \"Referer\": \"https://www.google.com/\",\n",
    "#                                 \"DNT\": \"1\",\n",
    "#                                 \"Connection\": \"keep-alive\",\n",
    "#                                 \"Upgrade-Insecure-Requests\": \"1\",\n",
    "#                             },\n",
    "#                             max_depth=3, \n",
    "#                             extractor=lambda x: Soup(x, \"html.parser\").text)\n",
    "# docs = loader.load()\n",
    "# len(docs)"
   ]
  },
  {
   "cell_type": "code",
   "execution_count": 3,
   "metadata": {},
   "outputs": [
    {
     "data": {
      "text/plain": [
       "(2510,\n",
       " 0    https://webpageprodvm.ntu.edu.tw/SOTRC/News_Li...\n",
       " 1                  https://www.lis.ntu.edu.tw/?p=11315\n",
       " 2    https://studyabroad.ntu.edu.tw/exchange-studen...\n",
       " 3    https://rsprc.ntu.edu.tw/zh-tw/m06-3/upcoming-...\n",
       " 4            https://ord.ntu.edu.tw/w/ordNTUplan/Login\n",
       " Name: url, dtype: object)"
      ]
     },
     "execution_count": 3,
     "metadata": {},
     "output_type": "execute_result"
    }
   ],
   "source": [
    "import pandas as pd\n",
    "department_url_list = pd.read_csv('url_department_2.csv')['url']\n",
    "len(department_url_list), department_url_list[:5]"
   ]
  },
  {
   "cell_type": "code",
   "execution_count": 8,
   "metadata": {},
   "outputs": [
    {
     "name": "stderr",
     "output_type": "stream",
     "text": [
      " 39%|███▊      | 43/111 [00:20<00:20,  3.25it/s]"
     ]
    },
    {
     "name": "stdout",
     "output_type": "stream",
     "text": [
      "url: http://www.entomol.ntu.edu.tw/\n"
     ]
    },
    {
     "name": "stderr",
     "output_type": "stream",
     "text": [
      " 66%|██████▌   | 73/111 [00:32<00:22,  1.71it/s]"
     ]
    },
    {
     "name": "stdout",
     "output_type": "stream",
     "text": [
      "url: https://www.science.ntu.edu.tw/\n"
     ]
    },
    {
     "name": "stderr",
     "output_type": "stream",
     "text": [
      " 81%|████████  | 90/111 [00:36<00:06,  3.37it/s]"
     ]
    },
    {
     "name": "stdout",
     "output_type": "stream",
     "text": [
      "url: https://gim.ntu.edu.tw/tc/\n"
     ]
    },
    {
     "name": "stderr",
     "output_type": "stream",
     "text": [
      " 90%|█████████ | 100/111 [00:37<00:02,  4.83it/s]"
     ]
    },
    {
     "name": "stdout",
     "output_type": "stream",
     "text": [
      "url: http://www.bp.ntu.edu.tw/\n"
     ]
    },
    {
     "name": "stderr",
     "output_type": "stream",
     "text": [
      " 95%|█████████▌| 106/111 [00:39<00:01,  4.07it/s]"
     ]
    },
    {
     "name": "stdout",
     "output_type": "stream",
     "text": [
      "url: http://www.che.ntu.edu.tw/\n"
     ]
    },
    {
     "name": "stderr",
     "output_type": "stream",
     "text": [
      "100%|██████████| 111/111 [00:39<00:00,  2.78it/s]\n"
     ]
    }
   ],
   "source": [
    "from tqdm import tqdm \n",
    "from requests_html import HTMLSession\n",
    "session = HTMLSession()\n",
    "# Phase 2\n",
    "valid_href_2 = []\n",
    "for url in tqdm(department_url_list):\n",
    "    try:\n",
    "        r = session.get(url)\n",
    "    # 輸出網頁的網址\n",
    "    # print(r.html.url)\n",
    "    # 輸出網頁內容內的所有網址\n",
    "    # print(r.html.absolute_links)\n",
    "        valid_href_2.append(r.html.absolute_links)\n",
    "\n",
    "    # try:\n",
    "    #     valid_href_2.append(extract_href(url, department_url_list))\n",
    "    except:\n",
    "        print(f'url: {url}')"
   ]
  },
  {
   "cell_type": "code",
   "execution_count": 24,
   "metadata": {},
   "outputs": [
    {
     "name": "stdout",
     "output_type": "stream",
     "text": [
      "https://www.ntu.edu.tw/\n",
      "{'https://www.ntu.edu.tw/about/CIS.html', 'https://www.ntu.edu.tw/spotlight/2023/2220_20231213.html', 'https://www.ntu.edu.tw/spotlight/2023/2219_20231213.html', 'https://www.ntu.edu.tw/research/research.html', 'https://ntubeats.ntu.edu.tw/enews/003/13.html', 'https://my.ntu.edu.tw/activities/', 'https://www.awec.ntu.edu.tw/wt/', 'https://sec.ntu.edu.tw/News_n_27891_sms_10187.html', 'http://www.ntubca.ntu.edu.tw/chupei.html', 'https://www.grb.gov.tw/GRB/execOrgSearch.jsp?execOrgan=FA01', 'https://visitorcenter.ntu.edu.tw/', 'https://museums.ntu.edu.tw', 'https://sec.ntu.edu.tw/epaper/article.asp?num=1588&sn=23954', 'https://ga.ntu.edu.tw/construction/main_ch/sub/%E7%AF%80%E8%83%BD%E5%B0%88%E5%8D%80/index.aspx', 'https://www.instagram.com/ntu.taiwan/', 'https://press.ntu.edu.tw/tw/news/show.php?refer=news2023.11.09-1', 'https://admissions.ntu.edu.tw/', 'https://pe.ntu.edu.tw/#/', 'https://www.ntu.edu.tw/about/about.html', 'https://ntuhighlights.ntu.edu.tw/', 'https://www.ntu.edu.tw/copyright.html', 'https://labspotlight.ntu.edu.tw/?locale=zh-TW', 'https://ntubeats.ntu.edu.tw/', 'https://case.ntu.edu.tw/blog/?p=43138', 'https://arts.ntu.edu.tw/', 'https://www.ntu.edu.tw/about/history.html', 'https://press.ntu.edu.tw/tw/news/show.php?refer=news2023.12.08-2', 'https://accessibility.moda.gov.tw/Applications/Detail?category=20230425100227', 'https://nol.ntu.edu.tw/nol/guest/index.php', 'https://studyabroadexpo.ntu.edu.tw', 'https://press.ntu.edu.tw/', 'https://www.ntu.edu.tw/student.html', 'https://ord.ntu.edu.tw/Interdisciplinary/index.asp', 'https://sec.ntu.edu.tw/epaper/article.asp?num=1589&sn=23964', 'https://www.ntu.edu.tw/campus/campus.html#campus02', 'https://epaper.ntu.edu.tw/', 'tel:+886-2-3366-3366', 'https://my.ntu.edu.tw/', 'https://my.ntu.edu.tw/tipa/', 'https://sec.ntu.edu.tw/epaper/article.asp?num=1589&sn=23962', 'https://www.linkedin.com/school/national-taiwan-university/', 'https://www.ntu.edu.tw/research/researchdep.html', 'https://oiainternship.ntu.edu.tw/', 'https://www.ntu.edu.tw/spotlight/2023/2218_20231206.html', 'https://goo.gl/maps/Z2XabneoMeuAksZk7', 'https://www.ntu.edu.tw/spotlight/spotlight.html', 'https://www.facebook.com/iloventu', 'https://www.ntu.edu.tw/about/statistics.html', 'https://www.youtube.com/user/ntutw', 'https://www.aca.ntu.edu.tw/w/aca/AdmissionOfficePage_23021416232938388', 'https://sustainable.ntu.edu.tw/', 'https://www.ntu.edu.tw/sitemap.html', 'https://dschool.ntu.edu.tw/%e6%8e%a2%e7%b4%a2%e5%ad%b8%e7%bf%92%e8%a8%88%e7%95%ab/', 'https://www.ntu.edu.tw/', 'https://www.lib.ntu.edu.tw/', 'https://www.ntu.edu.tw/english/', 'https://ord.ntu.edu.tw/', 'https://www.ntu.edu.tw/academics/academics.html#otherUnit', 'https://www.alumni.ntu.edu.tw/', 'https://my.ntu.edu.tw/ntuwdc/', 'https://www.ntu.edu.tw/contact.html', 'https://scholars.lib.ntu.edu.tw/', 'https://www.ntu.edu.tw/about/map.html', 'https://www.dlc.ntu.edu.tw/sotl-program/', 'https://sec.ntu.edu.tw/epaper/article.asp?num=1589&sn=23965', 'https://visitorcenter.ntu.edu.tw/cl_n_169511.html', 'https://my.ntu.edu.tw/assistant/', 'https://www.ntu.edu.tw/campus/campus.html#campus05', 'https://sec.ntu.edu.tw/epaper/', 'https://www.ntu.edu.tw/campus/campus.html', 'https://sec.ntu.edu.tw/epaper/article.asp?num=1589&sn=23961', 'https://giving.ntu.edu.tw/Default.html', 'https://www.ntu.edu.tw/faculty.html', 'https://triangle.ntu.edu.tw/', 'https://press.ntu.edu.tw/tw/news/show.php?refer=news2023.12.05-1', 'https://www.ntu.edu.tw/about/statistics.html#Statement', 'https://www.ntu.edu.tw/NTUcalendar.html', 'https://www.ntu.edu.tw/campus/campus.html#campus03', 'https://www.ntu.edu.tw/academics/academics.html', 'https://teach.cc.ntu.edu.tw/course', 'https://ord.ntu.edu.tw/sprout/index.asp', 'https://www.ntu.edu.tw/campus/campus.html#campus01', 'https://www.ntu.edu.tw/spotlight/2023/2217_20231206.html', 'https://www.coursera.org/learn/chinese-garden-literature-2', 'https://event.ntu.edu.tw/festival2023/', 'https://www.ntu.edu.tw/administration/administration.html', 'https://case.ntu.edu.tw/blog/?p=42846', 'https://www.ntu.edu.tw/tele119.html', 'https://ioh.tw/schools/%E5%9C%8B%E7%AB%8B%E8%87%BA%E7%81%A3%E5%A4%A7%E5%AD%B8?utm_source=school&utm_medium=referral&utm_campaign=homebanner&utm_content=ntu', 'https://www.future.ntu.edu.tw/', 'https://advisory.ntu.edu.tw/CMS/Page/21', 'https://giving.ntu.edu.tw/', 'https://ann.cc.ntu.edu.tw/', 'https://www.ntu.edu.tw/spotlight/2023/2221_20231213.html', 'https://sec.ntu.edu.tw/epaper/article.asp?num=1588&sn=23953'}\n"
     ]
    }
   ],
   "source": [
    "# from requests_html import HTMLSession\n",
    "# session = HTMLSession()\n",
    "# r = session.get(url)\n",
    "# # 輸出網頁的網址\n",
    "# print(r.html.url)\n",
    "# # 輸出網頁內容內的所有網址\n",
    "# print(r.html.absolute_links)"
   ]
  },
  {
   "cell_type": "code",
   "execution_count": 11,
   "metadata": {},
   "outputs": [
    {
     "name": "stdout",
     "output_type": "stream",
     "text": [
      "4671\n"
     ]
    }
   ],
   "source": [
    "import pandas as pd\n",
    "\n",
    "print(len(set([ll for l in valid_href_2 for ll in l])))\n",
    "df2 = pd.DataFrame({'url':  list(set([ll for l in valid_href_2 for ll in l]))})\n",
    "df2.to_csv('url_department_2_update.csv', index=False)"
   ]
  },
  {
   "cell_type": "code",
   "execution_count": null,
   "metadata": {},
   "outputs": [],
   "source": []
  }
 ],
 "metadata": {
  "kernelspec": {
   "display_name": "Python 3 (ipykernel)",
   "language": "python",
   "name": "python3"
  },
  "orig_nbformat": 4,
  "vscode": {
   "interpreter": {
    "hash": "e36d090eb05afd206ff422f08deb8d17bebd832ca2b6ff7ff784efa083cc1f4e"
   }
  }
 },
 "nbformat": 4,
 "nbformat_minor": 2
}
