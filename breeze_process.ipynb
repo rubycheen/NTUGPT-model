{
 "cells": [
  {
   "cell_type": "code",
   "execution_count": 1,
   "metadata": {},
   "outputs": [
    {
     "data": {
      "text/html": [
       "<div>\n",
       "<style scoped>\n",
       "    .dataframe tbody tr th:only-of-type {\n",
       "        vertical-align: middle;\n",
       "    }\n",
       "\n",
       "    .dataframe tbody tr th {\n",
       "        vertical-align: top;\n",
       "    }\n",
       "\n",
       "    .dataframe thead th {\n",
       "        text-align: right;\n",
       "    }\n",
       "</style>\n",
       "<table border=\"1\" class=\"dataframe\">\n",
       "  <thead>\n",
       "    <tr style=\"text-align: right;\">\n",
       "      <th></th>\n",
       "      <th>URL</th>\n",
       "      <th>Question</th>\n",
       "      <th>Answer</th>\n",
       "      <th>Answer_Taiwan_LLama_13B</th>\n",
       "    </tr>\n",
       "  </thead>\n",
       "  <tbody>\n",
       "    <tr>\n",
       "      <th>0</th>\n",
       "      <td>https://topic.tipo.gov.tw/copyright-tw/cp-415-...</td>\n",
       "      <td>如何聯絡智慧財產局著作權組？</td>\n",
       "      <td>您可以透過以下方式聯絡智慧財產局著作權組：\\n- 電話：著作權諮詢專線電話\\n- 電子郵件：...</td>\n",
       "      <td>你是一個人工智慧助理以及台灣大學校園導覽員 USER: 如何聯絡智慧財產局著作權組？ ASS...</td>\n",
       "    </tr>\n",
       "  </tbody>\n",
       "</table>\n",
       "</div>"
      ],
      "text/plain": [
       "                                                 URL        Question  \\\n",
       "0  https://topic.tipo.gov.tw/copyright-tw/cp-415-...  如何聯絡智慧財產局著作權組？   \n",
       "\n",
       "                                              Answer  \\\n",
       "0  您可以透過以下方式聯絡智慧財產局著作權組：\\n- 電話：著作權諮詢專線電話\\n- 電子郵件：...   \n",
       "\n",
       "                             Answer_Taiwan_LLama_13B  \n",
       "0  你是一個人工智慧助理以及台灣大學校園導覽員 USER: 如何聯絡智慧財產局著作權組？ ASS...  "
      ]
     },
     "execution_count": 1,
     "metadata": {},
     "output_type": "execute_result"
    }
   ],
   "source": [
    "import pandas as pd\n",
    "\n",
    "df = pd.read_csv('evaluation/testset_Taiwan_LLama_13B.csv')\n",
    "df.head(1)"
   ]
  },
  {
   "cell_type": "code",
   "execution_count": 2,
   "metadata": {},
   "outputs": [
    {
     "data": {
      "text/html": [
       "<div>\n",
       "<style scoped>\n",
       "    .dataframe tbody tr th:only-of-type {\n",
       "        vertical-align: middle;\n",
       "    }\n",
       "\n",
       "    .dataframe tbody tr th {\n",
       "        vertical-align: top;\n",
       "    }\n",
       "\n",
       "    .dataframe thead th {\n",
       "        text-align: right;\n",
       "    }\n",
       "</style>\n",
       "<table border=\"1\" class=\"dataframe\">\n",
       "  <thead>\n",
       "    <tr style=\"text-align: right;\">\n",
       "      <th></th>\n",
       "      <th>URL</th>\n",
       "      <th>Question</th>\n",
       "      <th>Answer</th>\n",
       "      <th>Answer_Taiwan_LLama_13B</th>\n",
       "    </tr>\n",
       "  </thead>\n",
       "  <tbody>\n",
       "    <tr>\n",
       "      <th>0</th>\n",
       "      <td>https://topic.tipo.gov.tw/copyright-tw/cp-415-...</td>\n",
       "      <td>如何聯絡智慧財產局著作權組？</td>\n",
       "      <td>您可以透過以下方式聯絡智慧財產局著作權組：\\n- 電話：著作權諮詢專線電話\\n- 電子郵件：...</td>\n",
       "      <td>請洽本局智慧財產權組,聯絡電話:02-23560505分機3112,傳真電話:02-2356...</td>\n",
       "    </tr>\n",
       "  </tbody>\n",
       "</table>\n",
       "</div>"
      ],
      "text/plain": [
       "                                                 URL        Question  \\\n",
       "0  https://topic.tipo.gov.tw/copyright-tw/cp-415-...  如何聯絡智慧財產局著作權組？   \n",
       "\n",
       "                                              Answer  \\\n",
       "0  您可以透過以下方式聯絡智慧財產局著作權組：\\n- 電話：著作權諮詢專線電話\\n- 電子郵件：...   \n",
       "\n",
       "                             Answer_Taiwan_LLama_13B  \n",
       "0  請洽本局智慧財產權組,聯絡電話:02-23560505分機3112,傳真電話:02-2356...  "
      ]
     },
     "execution_count": 2,
     "metadata": {},
     "output_type": "execute_result"
    }
   ],
   "source": [
    "df['Answer_Taiwan_LLama_13B'] = [d.split('ASSISTANT:')[-1][1:] for d in df['Answer_Taiwan_LLama_13B']]\n",
    "df.head(1)"
   ]
  },
  {
   "cell_type": "code",
   "execution_count": 3,
   "metadata": {},
   "outputs": [],
   "source": [
    "df.to_csv('evaluation/testset_Taiwan_LLama_13B.csv', index=False)"
   ]
  },
  {
   "cell_type": "code",
   "execution_count": 4,
   "metadata": {},
   "outputs": [
    {
     "data": {
      "text/html": [
       "<div>\n",
       "<style scoped>\n",
       "    .dataframe tbody tr th:only-of-type {\n",
       "        vertical-align: middle;\n",
       "    }\n",
       "\n",
       "    .dataframe tbody tr th {\n",
       "        vertical-align: top;\n",
       "    }\n",
       "\n",
       "    .dataframe thead th {\n",
       "        text-align: right;\n",
       "    }\n",
       "</style>\n",
       "<table border=\"1\" class=\"dataframe\">\n",
       "  <thead>\n",
       "    <tr style=\"text-align: right;\">\n",
       "      <th></th>\n",
       "      <th>URL</th>\n",
       "      <th>Question</th>\n",
       "      <th>Answer</th>\n",
       "      <th>Answer_TAIDE-LX-7B-Chat_RAG</th>\n",
       "      <th>Retrieve_Expand_Content</th>\n",
       "      <th>Retrieve_Snippet_Content</th>\n",
       "      <th>Retreive_Urls</th>\n",
       "    </tr>\n",
       "  </thead>\n",
       "  <tbody>\n",
       "    <tr>\n",
       "      <th>0</th>\n",
       "      <td>https://topic.tipo.gov.tw/copyright-tw/cp-415-...</td>\n",
       "      <td>如何聯絡智慧財產局著作權組？</td>\n",
       "      <td>您可以透過以下方式聯絡智慧財產局著作權組：\\n- 電話：著作權諮詢專線電話\\n- 電子郵件：...</td>\n",
       "      <td>[INST] &lt;&lt;SYS&gt;&gt;\\n你是一個人工智慧助理以及台灣大學校園導覽員\\n&lt;&lt;/SYS&gt;...</td>\n",
       "      <td>['若對本書內容有任何指正請不吝與智慧局著作權組或作者聯繫', '著作權法是智慧財產權領域中...</td>\n",
       "      <td>['若對本書內容有任何指正請不吝與智慧局著作權組或作者聯繫', '著作權法是智慧財產權領域中...</td>\n",
       "      <td>{'https://topic.tipo.gov.tw/copyright-tw/cp-41...</td>\n",
       "    </tr>\n",
       "  </tbody>\n",
       "</table>\n",
       "</div>"
      ],
      "text/plain": [
       "                                                 URL        Question  \\\n",
       "0  https://topic.tipo.gov.tw/copyright-tw/cp-415-...  如何聯絡智慧財產局著作權組？   \n",
       "\n",
       "                                              Answer  \\\n",
       "0  您可以透過以下方式聯絡智慧財產局著作權組：\\n- 電話：著作權諮詢專線電話\\n- 電子郵件：...   \n",
       "\n",
       "                         Answer_TAIDE-LX-7B-Chat_RAG  \\\n",
       "0  [INST] <<SYS>>\\n你是一個人工智慧助理以及台灣大學校園導覽員\\n<</SYS>...   \n",
       "\n",
       "                             Retrieve_Expand_Content  \\\n",
       "0  ['若對本書內容有任何指正請不吝與智慧局著作權組或作者聯繫', '著作權法是智慧財產權領域中...   \n",
       "\n",
       "                            Retrieve_Snippet_Content  \\\n",
       "0  ['若對本書內容有任何指正請不吝與智慧局著作權組或作者聯繫', '著作權法是智慧財產權領域中...   \n",
       "\n",
       "                                       Retreive_Urls  \n",
       "0  {'https://topic.tipo.gov.tw/copyright-tw/cp-41...  "
      ]
     },
     "execution_count": 4,
     "metadata": {},
     "output_type": "execute_result"
    }
   ],
   "source": [
    "import pandas as pd\n",
    "\n",
    "df = pd.read_csv('evaluation/testset_TAIDE-LX-7B-Chat_RAG.csv')\n",
    "df.head(1)"
   ]
  },
  {
   "cell_type": "code",
   "execution_count": 6,
   "metadata": {},
   "outputs": [
    {
     "data": {
      "text/html": [
       "<div>\n",
       "<style scoped>\n",
       "    .dataframe tbody tr th:only-of-type {\n",
       "        vertical-align: middle;\n",
       "    }\n",
       "\n",
       "    .dataframe tbody tr th {\n",
       "        vertical-align: top;\n",
       "    }\n",
       "\n",
       "    .dataframe thead th {\n",
       "        text-align: right;\n",
       "    }\n",
       "</style>\n",
       "<table border=\"1\" class=\"dataframe\">\n",
       "  <thead>\n",
       "    <tr style=\"text-align: right;\">\n",
       "      <th></th>\n",
       "      <th>URL</th>\n",
       "      <th>Question</th>\n",
       "      <th>Answer</th>\n",
       "      <th>Answer_TAIDE-LX-7B-Chat_RAG</th>\n",
       "      <th>Retrieve_Expand_Content</th>\n",
       "      <th>Retrieve_Snippet_Content</th>\n",
       "      <th>Retreive_Urls</th>\n",
       "    </tr>\n",
       "  </thead>\n",
       "  <tbody>\n",
       "    <tr>\n",
       "      <th>0</th>\n",
       "      <td>https://topic.tipo.gov.tw/copyright-tw/cp-415-...</td>\n",
       "      <td>如何聯絡智慧財產局著作權組？</td>\n",
       "      <td>您可以透過以下方式聯絡智慧財產局著作權組：\\n- 電話：著作權諮詢專線電話\\n- 電子郵件：...</td>\n",
       "      <td>您可以透過以下方式聯絡智慧財產局著作權組：\\n\\n1. 電話：著作權諮詢專線電話：(02) ...</td>\n",
       "      <td>['若對本書內容有任何指正請不吝與智慧局著作權組或作者聯繫', '著作權法是智慧財產權領域中...</td>\n",
       "      <td>['若對本書內容有任何指正請不吝與智慧局著作權組或作者聯繫', '著作權法是智慧財產權領域中...</td>\n",
       "      <td>{'https://topic.tipo.gov.tw/copyright-tw/cp-41...</td>\n",
       "    </tr>\n",
       "  </tbody>\n",
       "</table>\n",
       "</div>"
      ],
      "text/plain": [
       "                                                 URL        Question  \\\n",
       "0  https://topic.tipo.gov.tw/copyright-tw/cp-415-...  如何聯絡智慧財產局著作權組？   \n",
       "\n",
       "                                              Answer  \\\n",
       "0  您可以透過以下方式聯絡智慧財產局著作權組：\\n- 電話：著作權諮詢專線電話\\n- 電子郵件：...   \n",
       "\n",
       "                         Answer_TAIDE-LX-7B-Chat_RAG  \\\n",
       "0  您可以透過以下方式聯絡智慧財產局著作權組：\\n\\n1. 電話：著作權諮詢專線電話：(02) ...   \n",
       "\n",
       "                             Retrieve_Expand_Content  \\\n",
       "0  ['若對本書內容有任何指正請不吝與智慧局著作權組或作者聯繫', '著作權法是智慧財產權領域中...   \n",
       "\n",
       "                            Retrieve_Snippet_Content  \\\n",
       "0  ['若對本書內容有任何指正請不吝與智慧局著作權組或作者聯繫', '著作權法是智慧財產權領域中...   \n",
       "\n",
       "                                       Retreive_Urls  \n",
       "0  {'https://topic.tipo.gov.tw/copyright-tw/cp-41...  "
      ]
     },
     "execution_count": 6,
     "metadata": {},
     "output_type": "execute_result"
    }
   ],
   "source": [
    "df['Answer_TAIDE-LX-7B-Chat_RAG'] = [d.split('[/INST]')[-1][1:] for d in df['Answer_TAIDE-LX-7B-Chat_RAG']]\n",
    "df.head(1)"
   ]
  },
  {
   "cell_type": "code",
   "execution_count": 7,
   "metadata": {},
   "outputs": [],
   "source": [
    "df.to_csv('evaluation/testset_TAIDE-LX-7B-Chat_RAG.csv', index=False)"
   ]
  },
  {
   "cell_type": "code",
   "execution_count": null,
   "metadata": {},
   "outputs": [],
   "source": []
  }
 ],
 "metadata": {
  "kernelspec": {
   "display_name": "ntugpt",
   "language": "python",
   "name": "python3"
  },
  "language_info": {
   "codemirror_mode": {
    "name": "ipython",
    "version": 3
   },
   "file_extension": ".py",
   "mimetype": "text/x-python",
   "name": "python",
   "nbconvert_exporter": "python",
   "pygments_lexer": "ipython3",
   "version": "3.8.18"
  },
  "orig_nbformat": 4,
  "vscode": {
   "interpreter": {
    "hash": "4921702c1a37a09b19733a4935fcc94c6777668fce9d92053c697eb395fb3b9e"
   }
  }
 },
 "nbformat": 4,
 "nbformat_minor": 2
}
