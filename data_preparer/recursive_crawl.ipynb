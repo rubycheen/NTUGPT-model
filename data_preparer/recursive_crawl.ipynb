{
 "cells": [
  {
   "cell_type": "code",
   "execution_count": 17,
   "metadata": {},
   "outputs": [],
   "source": [
    "from langchain_community.document_loaders.recursive_url_loader import RecursiveUrlLoader\n",
    "from bs4 import BeautifulSoup as Soup\n",
    "\n",
    "fake_head = {\n",
    "'User-Agent': 'Mozilla/5.0 (Windows NT 6.1; WOW64) AppleWebKit/537.36 (KHTML, like Gecko) Chrome/53.0.2785.143 Safari/537.36',\n",
    "'Connection': 'keep-alive',\n",
    "'accept': 'text/html,application/xhtml+xml,application/xml;q=0.9,image/webp,*/*;q=0.8'\n",
    "}\n",
    "\n",
    "url = \"https://www.ntu.edu.tw/\"\n",
    "\n",
    "loader = RecursiveUrlLoader(\n",
    "    url=url, max_depth=1, headers=fake_head\n",
    ")\n",
    "docs = loader.load()"
   ]
  },
  {
   "cell_type": "code",
   "execution_count": 16,
   "metadata": {},
   "outputs": [
    {
     "data": {
      "text/plain": [
       "'國立臺灣大學 跳到主要內容網站導覽English:::認識臺大認識臺大認識臺大有關臺大行政組織臺大校史地圖與交通資訊資訊公開/年報永續臺大校園環景教學教學教學學術單位其他教學單位研究研究研究臺大研究跨領域研究研究單位研究服務學術典藏政府研究資訊GRB圖書館亮點實驗室招生招生校園校園網站導覽English            myNTU使用對象學生教職員校友訪客創校百年捐款搜尋瀏覽器版本過舊，或未開啟 javascript請更新瀏覽器或啟用 javascript搜尋::: 臺大賽車隊自製電動賽車 Epsilon 4亮相NTU Racing Unveils the Next-Generation Race Car ▶ 臺大國際引路人計畫NTU International Mentorship Program 校園環景NTU Virtual Tour ▶ 奈米機電系統研究中心Nano-Electro-Mechanical-Systems (NEMS) Research Center輪播圖按鈕 輪播圖按鈕 輪播圖按鈕 輪播圖按鈕 輪播圖按鈕 Scroll Down農學院與衛福部國家中醫藥研究所合作發展本土中草藥物理系教授包曼丹尼爾榮獲宏博研究獎臺大攜手逾70家企業「產學共育」打造永續人才競爭力孑遺藍綠菌中的特殊藻膽蛋白體結構揭露光合作用演化消失的環節法國國家科學研究院(CNRS)來訪  深化臺法化學領域合作交流查看更多焦點農學院與衛福部國家中醫藥研究所合作發展本土中草藥物理系教授包曼丹尼爾榮獲宏博研究獎臺大攜手逾70家企業「產學共育」打造永續人才競爭力孑遺藍綠菌中的特殊藻膽蛋白體結構揭露光合作用演化消失的環節法國國家科學研究院(CNRS)來訪  深化臺法化學領域合作交流輪播圖按鈕輪播圖按鈕輪播圖按鈕輪播圖按鈕輪播圖按鈕查看更多20241/32023年TAHOPE實驗資料分析與科學成果研討會20241/3臺灣大學第36次跨領域學術交流會 - 工學院20241/3112學年度各類獎學金頒獎典禮20241/3臺灣大學系統科研產業化平臺展售化工材料專利 5校聯合研發能量助力產業升級20241/3FAST模型：臺大的學習規劃創新工具20241/3臺大特色課程系列報導—創新設計學院「音樂設計與創新應用」課程 前進猴硐演繹礦工生命故事前往臺大校訊查看更多校園生活查看更多/學習資源校內語言課程、開放式課程等各項資源生活資訊師生住宿、交通、生活便利通等資訊網路服務校園網路、校務信箱帳號申請等相關服務其他資源校外其他資源/查看更多活動快報臺大國際學位生線上說明會將於1月12日、15日、16日和17日舉行~2024/1/17《公共人文學的反思與實踐》析論當代臺灣的文化面貌~2024/2/3臺灣大學Global MBA招生中！~2024/3/12《被遺忘的諾貝爾獎神經科學家──高基》以豐富文獻建構高基生平，呈現其人在科學領域的研究歷程~2024/1/19國立臺灣大學優秀境外學位生申請開放(二階)~2024/2/19《為什麼是臺灣？》運用多種史料與各方論著，以追溯中國對臺灣考量的演變過程~2024/1/14《南宋朝野論王安石與新法》探析南宋朝野在不同時期、不同層面對於王安石的評價~2024/1/11《中國的娛樂與性別》探討二十世紀上半葉，上海女性娛樂以及女性在娛樂中的樣貌~2024/1/7AI科普沙龍系列講座 第2期【AI新浪潮：生成式變革】~2024/5/18查看更多校園公告校園公告臺大校訊校園公佈欄體育活動藝文活動社團活動臺大電子報查看更多公開校務公開校務國立臺灣大學系統資訊公開/年報高教深耕計畫永續校園分層負責用電資訊獎助學金資訊獎助生及兼任助理專區聲明專區查看更多校園推廣校園推廣校園傳染病管制網NTU Highlights未來大學計畫臺大出版品臺大識別智慧財產權專區竹北分部產學合作查看更多:::行事曆課程捐款學術典藏圖書館博物館群myNTUHighlightsBEATS106319 臺北市大安區羅斯福路四段一號 電話總機：02-3366-3366傳真號碼：02-2362-7651緊急聯絡地圖與交通隱私權及資訊安全政策Copyright © 2023 國立臺灣大學 National Taiwan University'"
      ]
     },
     "execution_count": 16,
     "metadata": {},
     "output_type": "execute_result"
    }
   ],
   "source": [
    "from langchain.document_loaders import WebBaseLoader, UnstructuredURLLoader, NewsURLLoader, SeleniumURLLoader\n",
    "\n",
    "def load_document(loader_class, website_url):\n",
    "    \"\"\"\n",
    "    Load a document using the specified loader class and website URL.\n",
    "\n",
    "    Args:\n",
    "    loader_class (class): The class of the loader to be used.\n",
    "    website_url (str): The URL of the website from which to load the document.\n",
    "\n",
    "    Returns:\n",
    "    str: The loaded document.\n",
    "    \"\"\"\n",
    "    loader = loader_class([website_url])\n",
    "    return loader.load()\n",
    "\n",
    "website = \"https://www.ntu.edu.tw/\"\n",
    "\n",
    "wb_loader_doc = load_document(WebBaseLoader, website)\n",
    "wb_loader_doc[0].page_content"
   ]
  },
  {
   "cell_type": "code",
   "execution_count": 56,
   "metadata": {},
   "outputs": [
    {
     "name": "stderr",
     "output_type": "stream",
     "text": [
      "Building prefix dict from the default dictionary ...\n",
      "Dumping model to file cache /tmp/jieba.cache\n",
      "Loading model cost 0.328 seconds.\n",
      "Prefix dict has been built successfully.\n"
     ]
    },
    {
     "data": {
      "text/plain": [
       "'《被遺忘的諾貝爾獎神經科學家──高基》以豐富文獻建構高基生平，呈現其人在科學領域的研究歷程~2024/1/19'"
      ]
     },
     "execution_count": 56,
     "metadata": {},
     "output_type": "execute_result"
    }
   ],
   "source": [
    "wb_loader_doc = load_document(NewsURLLoader, website)\n",
    "wb_loader_doc[0].page_content"
   ]
  },
  {
   "cell_type": "code",
   "execution_count": 58,
   "metadata": {},
   "outputs": [
    {
     "data": {
      "text/plain": [
       "'跳到主要內容\\n\\n\\n\\n\\n\\n網站導覽\\n\\nEnglish\\n\\n:::\\n\\n認識臺大認識臺大認識臺大有關臺大行政組織臺大校史地圖與交通資訊資訊公開/年報永續臺大校園環景\\n\\n教學教學教學學術單位其他教學單位\\n\\n研究研究研究臺大研究跨領域研究研究單位研究服務學術典藏政府研究資訊GRB圖書館亮點實驗室\\n\\n招生招生\\n\\n校園校園\\n\\n網站導覽\\n\\nEnglish\\n\\nmyNTU\\n\\n使用對象學生教職員校友訪客\\n\\n創校百年捐款\\n\\n搜尋\\n\\n\\n\\n\\n\\n\\n\\n\\n\\n\\n\\n瀏覽器版本過舊，或未開啟 javascript\\n\\n請更新瀏覽器或啟用 javascript\\n\\n:::\\n\\n臺大賽車隊自製電動賽車 Epsilon 4亮相NTU Racing Unveils the Next-Generation Race Car ▶\\n\\n臺大國際引路人計畫NTU International Mentorship Program\\n\\n校園環景NTU Virtual Tour ▶\\n\\n奈米機電系統研究中心\\n\\nNano-Electro-Mechanical-Systems (NEMS) Research Center\\n\\nScroll Down\\n\\n農學院與衛福部國家中醫藥研究所合作發展本土中草藥\\n\\n物理系教授包曼丹尼爾榮獲宏博研究獎\\n\\n臺大攜手逾70家企業「產學共育」打造永續人才競爭力\\n\\n孑遺藍綠菌中的特殊藻膽蛋白體結構揭露光合作用演化消失的環節\\n\\n法國國家科學研究院(CNRS)來訪  深化臺法化學領域合作交流\\n\\n查看更多\\n\\n農學院與衛福部國家中醫藥研究所合作發展本土中草藥\\n\\n物理系教授包曼丹尼爾榮獲宏博研究獎\\n\\n臺大攜手逾70家企業「產學共育」打造永續人才競爭力\\n\\n孑遺藍綠菌中的特殊藻膽蛋白體結構揭露光合作用演化消失的環節\\n\\n法國國家科學研究院(CNRS)來訪  深化臺法化學領域合作交流\\n\\n焦點\\n\\n農學院與衛福部國家中醫藥研究所合作發展本土中草藥\\n\\n物理系教授包曼丹尼爾榮獲宏博研究獎\\n\\n臺大攜手逾70家企業「產學共育」打造永續人才競爭力\\n\\n孑遺藍綠菌中的特殊藻膽蛋白體結構揭露光合作用演化消失的環節\\n\\n法國國家科學研究院(CNRS)來訪  深化臺法化學領域合作交流\\n\\n農學院與衛福部國家中醫藥研究所合作發展本土中草藥\\n\\n物理系教授包曼丹尼爾榮獲宏博研究獎\\n\\n臺大攜手逾70家企業「產學共育」打造永續人才競爭力\\n\\n孑遺藍綠菌中的特殊藻膽蛋白體結構揭露光合作用演化消失的環節\\n\\n法國國家科學研究院(CNRS)來訪  深化臺法化學領域合作交流\\n\\n查看更多\\n\\n20241/32023年TAHOPE實驗資料分析與科學成果研討會\\n\\n20241/3臺灣大學第36次跨領域學術交流會 - 工學院\\n\\n20241/3112學年度各類獎學金頒獎典禮\\n\\n20241/3臺灣大學系統科研產業化平臺展售化工材料專利 5校聯合研發能量助力產業升級\\n\\n20241/3FAST模型：臺大的學習規劃創新工具\\n\\n20241/3臺大特色課程系列報導—創新設計學院「音樂設計與創新應用」課程 前進猴硐演繹礦工生命故事\\n\\n前往臺大校訊查看更多\\n\\n校園生活\\n\\n查看更多\\n\\n學習資源校內語言課程、開放式課程等各項資源\\n\\n生活資訊師生住宿、交通、生活便利通等資訊\\n\\n網路服務校園網路、校務信箱帳號申請等相關服務\\n\\n其他資源校外其他資源\\n\\n學習資源校內語言課程、開放式課程等各項資源\\n\\n生活資訊師生住宿、交通、生活便利通等資訊\\n\\n網路服務校園網路、校務信箱帳號申請等相關服務\\n\\n其他資源校外其他資源\\n\\n查看更多\\n\\n活動快報\\n\\n臺大國際學位生線上說明會將於1月12日、15日、16日和17日舉行~2024/1/17\\n\\n《公共人文學的反思與實踐》析論當代臺灣的文化面貌~2024/2/3\\n\\n臺灣大學Global MBA招生中！~2024/3/12\\n\\n《被遺忘的諾貝爾獎神經科學家──高基》以豐富文獻建構高基生平，呈現其人在科學領域的研究歷程~2024/1/19\\n\\n國立臺灣大學優秀境外學位生申請開放(二階)~2024/2/19\\n\\n《為什麼是臺灣？》運用多種史料與各方論著，以追溯中國對臺灣考量的演變過程~2024/1/14\\n\\n《南宋朝野論王安石與新法》探析南宋朝野在不同時期、不同層面對於王安石的評價~2024/1/11\\n\\n《中國的娛樂與性別》探討二十世紀上半葉，上海女性娛樂以及女性在娛樂中的樣貌~2024/1/7\\n\\nAI科普沙龍系列講座 第2期【AI新浪潮：生成式變革】~2024/5/18\\n\\n查看更多\\n\\n校園公告校園公告臺大校訊校園公佈欄體育活動藝文活動社團活動臺大電子報查看更多\\n\\n公開校務公開校務國立臺灣大學系統資訊公開/年報高教深耕計畫永續校園分層負責用電資訊獎助學金資訊獎助生及兼任助理專區聲明專區查看更多\\n\\n校園推廣校園推廣校園傳染病管制網NTU Highlights未來大學計畫臺大出版品臺大識別智慧財產權專區竹北分部產學合作查看更多\\n\\n:::\\n\\n行事曆\\n\\n課程\\n\\n捐款\\n\\n學術典藏\\n\\n圖書館\\n\\n博物館群\\n\\nmyNTU\\n\\nHighlights\\n\\nBEATS\\n\\n106319 臺北市大安區羅斯福路四段一號\\n\\n電話總機：02-3366-3366\\n\\n傳真號碼：02-2362-7651\\n\\n緊急聯絡\\n\\n地圖與交通\\n\\n隱私權及資訊安全政策\\n\\nCopyright © 2023 國立臺灣大學 National Taiwan University'"
      ]
     },
     "execution_count": 58,
     "metadata": {},
     "output_type": "execute_result"
    }
   ],
   "source": [
    "wb_loader_doc = load_document(SeleniumURLLoader, website)\n",
    "wb_loader_doc[0].page_content"
   ]
  },
  {
   "cell_type": "code",
   "execution_count": 48,
   "metadata": {},
   "outputs": [],
   "source": [
    "with open('test.txt', 'w') as f:\n",
    "    f.write(encoded_content)"
   ]
  },
  {
   "cell_type": "code",
   "execution_count": 52,
   "metadata": {},
   "outputs": [
    {
     "data": {
      "text/plain": [
       "'å\\x9c\\x8bç«\\x8bè\\x87ºç\\x81£å¤§å\\xad¸ è·³å\\x88°ä¸»è¦\\x81å\\x85§å®¹ç¶²ç«\\x99å°\\x8eè¦½E'"
      ]
     },
     "execution_count": 52,
     "metadata": {},
     "output_type": "execute_result"
    }
   ],
   "source": [
    "docs[0].page_content[:50]"
   ]
  },
  {
   "cell_type": "code",
   "execution_count": 12,
   "metadata": {},
   "outputs": [
    {
     "data": {
      "text/plain": [
       "{'source': 'https://www.ntu.edu.tw/spotlight/2024/2229_20240103.html',\n",
       " 'title': 'è¾²å\\xad¸é\\x99¢è\\x88\\x87è¡\\x9bç¦\\x8fé\\x83¨å\\x9c\\x8bå®¶ä¸\\xadé\\x86«è\\x97¥ç\\xa0\\x94ç©¶æ\\x89\\x80å\\x90\\x88ä½\\x9cç\\x99¼å±\\x95æ\\x9c¬å\\x9c\\x9fä¸\\xadè\\x8d\\x89è\\x97¥ - ç\\x84¦é»\\x9eæ\\x96°è\\x81\\x9e - å\\x9c\\x8bç«\\x8bè\\x87ºç\\x81£å¤§å\\xad¸',\n",
       " 'description': 'è\\x87ºå¤§ç\\x94\\x9fç\\x89©è³\\x87æº\\x90æ\\x9a¨è¾²å\\xad¸é\\x99¢2023å¹´12æ\\x9c\\x8819æ\\x97¥è\\x88\\x87è¡\\x9bç¦\\x8fé\\x83¨å\\x9c\\x8bå®¶ä¸\\xadé\\x86«è\\x97¥ç\\xa0\\x94ç©¶æ\\x89\\x80ç°½ç½²å\\x90\\x88ä½\\x9cæ\\x84\\x8få\\x90\\x91æ\\x9b¸ï¼\\x8cå\\x85±å\\x90\\x8cæ\\x8c¯è\\x88\\x88æ\\x9c¬å\\x9c\\x9fä¸\\xadè\\x8d\\x89è\\x97¥ç\\x9a\\x84æ\\xa0½å\\x9f¹å\\x92\\x8cå\\x88©ç\\x94¨ã\\x80\\x82é\\x99¤è§£æ±ºæ\\x9c¬å\\x9c\\x9fä¸\\xadè\\x8d\\x89è\\x97¥ç¼ºä¹\\x8få\\x95\\x8fé¡\\x8cï¼\\x8cæ\\x9c\\x9fç\\x9b¼è\\x83½æ\\x88\\x90ç\\x82ºå\\x85¨ç\\x90\\x83ä¸\\xadè\\x8d\\x89è\\x97¥ä¾\\x9bæ\\x87\\x89ç\\x9a\\x84é\\xa0\\x98é\\xa0\\xadç¾\\x8aã\\x80\\x82ç\\x94±æ\\x96¼å\\x8c\\x96å\\xad¸å\\x90\\x88æ\\x88\\x90è\\x97¥å\\x8a\\x91å¦\\x82æ\\x8a\\x97ç\\x94\\x9fç´\\xa0å¤§ï¥¾ä½¿ç\\x94¨ï¼\\x8cä»¥å\\x8f\\x8aå\\x9c¨æ²»ï§\\x81ç\\x96¾ç\\x97\\x85ä¸\\x8aæ\\x89\\x80å¼\\x95ç\\x99¼ç\\x9a\\x84å\\x89¯ä½\\x9cç\\x94¨ï¼\\x8cä½¿å¾\\x97å¤©ç\\x84¶ç\\x9a\\x84è\\x97¥ç\\x94¨æ¤\\x8dç\\x89©å\\x86\\x8dï¨\\x81å\\x8f\\x97å\\x88°ä¸\\x96äººç\\xa0\\x94ç©¶è\\x88\\x87é\\x87\\x8dè¦\\x96',\n",
       " 'language': 'zh-Hant'}"
      ]
     },
     "execution_count": 12,
     "metadata": {},
     "output_type": "execute_result"
    }
   ],
   "source": [
    "docs[-1].metadata"
   ]
  },
  {
   "cell_type": "code",
   "execution_count": null,
   "metadata": {},
   "outputs": [],
   "source": []
  }
 ],
 "metadata": {
  "kernelspec": {
   "display_name": "crawl",
   "language": "python",
   "name": "python3"
  },
  "language_info": {
   "codemirror_mode": {
    "name": "ipython",
    "version": 3
   },
   "file_extension": ".py",
   "mimetype": "text/x-python",
   "name": "python",
   "nbconvert_exporter": "python",
   "pygments_lexer": "ipython3",
   "version": "3.11.5"
  },
  "orig_nbformat": 4,
  "vscode": {
   "interpreter": {
    "hash": "1ffb0a421f9abc48f1a97801c275569defb56d533bba9b58297135b84aba5640"
   }
  }
 },
 "nbformat": 4,
 "nbformat_minor": 2
}
