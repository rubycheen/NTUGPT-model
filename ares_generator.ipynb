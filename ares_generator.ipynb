{
 "cells": [
  {
   "cell_type": "markdown",
   "metadata": {},
   "source": [
    "### ARES"
   ]
  },
  {
   "cell_type": "code",
   "execution_count": 3,
   "metadata": {},
   "outputs": [
    {
     "name": "stdout",
     "output_type": "stream",
     "text": [
      "len(all_splits): 19092\n"
     ]
    }
   ],
   "source": [
    "import pandas as pd\n",
    "from langchain.document_loaders import DataFrameLoader\n",
    "from langchain.text_splitter import RecursiveCharacterTextSplitter\n",
    "\n",
    "\n",
    "df = pd.read_csv('document/clean_content_4.csv')\n",
    "\n",
    "\n",
    "loader = DataFrameLoader(df, page_content_column=\"content\")\n",
    "docs = loader.load()\n",
    "\n",
    "CHUNK_SIZE = 1024\n",
    "CHUNK_OVERLAP = 0\n",
    "\n",
    "child_splitter = RecursiveCharacterTextSplitter(\n",
    "    chunk_size=CHUNK_SIZE, chunk_overlap=CHUNK_OVERLAP, add_start_index=True\n",
    ")\n",
    "\n",
    "all_splits = child_splitter.split_documents(docs)\n",
    "print(f'len(all_splits): {len(all_splits)}')\n"
   ]
  },
  {
   "cell_type": "code",
   "execution_count": 16,
   "metadata": {},
   "outputs": [
    {
     "data": {
      "text/html": [
       "<div>\n",
       "<style scoped>\n",
       "    .dataframe tbody tr th:only-of-type {\n",
       "        vertical-align: middle;\n",
       "    }\n",
       "\n",
       "    .dataframe tbody tr th {\n",
       "        vertical-align: top;\n",
       "    }\n",
       "\n",
       "    .dataframe thead th {\n",
       "        text-align: right;\n",
       "    }\n",
       "</style>\n",
       "<table border=\"1\" class=\"dataframe\">\n",
       "  <thead>\n",
       "    <tr style=\"text-align: right;\">\n",
       "      <th></th>\n",
       "      <th>timestamp</th>\n",
       "      <th>content</th>\n",
       "    </tr>\n",
       "    <tr>\n",
       "      <th>url</th>\n",
       "      <th></th>\n",
       "      <th></th>\n",
       "    </tr>\n",
       "  </thead>\n",
       "  <tbody>\n",
       "    <tr>\n",
       "      <th>https://www.ac.ntu.edu.tw/</th>\n",
       "      <td>1.702928e+09</td>\n",
       "      <td>Close login 登入 國立臺灣大學 農業化學系 忘記密碼? 國立臺灣大學 農業化學系...</td>\n",
       "    </tr>\n",
       "    <tr>\n",
       "      <th>https://www.aca.ntu.edu.tw/w/aca/</th>\n",
       "      <td>1.702928e+09</td>\n",
       "      <td>跳到主要內容 En 全站搜尋 search En 點擊時關閉搜尋 點擊時前往搜尋 close...</td>\n",
       "    </tr>\n",
       "    <tr>\n",
       "      <th>https://ga.ntu.edu.tw/main_ch/</th>\n",
       "      <td>1.702928e+09</td>\n",
       "      <td>國立臺灣大學總務處 國立臺灣大學總務處 連結各組 為順利達成112年度內各項付款及113年1...</td>\n",
       "    </tr>\n",
       "    <tr>\n",
       "      <th>https://ord.ntu.edu.tw/w/ordNTU/</th>\n",
       "      <td>1.702928e+09</td>\n",
       "      <td>跳到主要內容 請輸入關鍵字 - 送出的按鈕 計畫申請 人員管理 補助獎項 研究資源 研究倫理...</td>\n",
       "    </tr>\n",
       "    <tr>\n",
       "      <th>https://oia.ntu.edu.tw/</th>\n",
       "      <td>1.702928e+09</td>\n",
       "      <td>焦點 公告 一覽 Global NTU Oceania Asia Europe Africa...</td>\n",
       "    </tr>\n",
       "  </tbody>\n",
       "</table>\n",
       "</div>"
      ],
      "text/plain": [
       "                                      timestamp  \\\n",
       "url                                               \n",
       "https://www.ac.ntu.edu.tw/         1.702928e+09   \n",
       "https://www.aca.ntu.edu.tw/w/aca/  1.702928e+09   \n",
       "https://ga.ntu.edu.tw/main_ch/     1.702928e+09   \n",
       "https://ord.ntu.edu.tw/w/ordNTU/   1.702928e+09   \n",
       "https://oia.ntu.edu.tw/            1.702928e+09   \n",
       "\n",
       "                                                                             content  \n",
       "url                                                                                   \n",
       "https://www.ac.ntu.edu.tw/         Close login 登入 國立臺灣大學 農業化學系 忘記密碼? 國立臺灣大學 農業化學系...  \n",
       "https://www.aca.ntu.edu.tw/w/aca/  跳到主要內容 En 全站搜尋 search En 點擊時關閉搜尋 點擊時前往搜尋 close...  \n",
       "https://ga.ntu.edu.tw/main_ch/     國立臺灣大學總務處 國立臺灣大學總務處 連結各組 為順利達成112年度內各項付款及113年1...  \n",
       "https://ord.ntu.edu.tw/w/ordNTU/   跳到主要內容 請輸入關鍵字 - 送出的按鈕 計畫申請 人員管理 補助獎項 研究資源 研究倫理...  \n",
       "https://oia.ntu.edu.tw/            焦點 公告 一覽 Global NTU Oceania Asia Europe Africa...  "
      ]
     },
     "execution_count": 16,
     "metadata": {},
     "output_type": "execute_result"
    }
   ],
   "source": [
    "raw_df = pd.read_csv('document/clean_content_4.csv')\n",
    "# raw_df['url'] = raw_df.index\n",
    "raw_df2 = raw_df.set_index('url')\n",
    "# raw_df.reset_index(inplace=True, index=raw_df['url'])\n",
    "raw_df2.head()"
   ]
  },
  {
   "cell_type": "code",
   "execution_count": 5,
   "metadata": {},
   "outputs": [],
   "source": [
    "document_df = pd.DataFrame({'Document': [doc.page_content for doc in all_splits]})\n",
    "document_df.to_csv('ARES/document.tsv', index=False, sep='\\t')"
   ]
  },
  {
   "cell_type": "code",
   "execution_count": 52,
   "metadata": {},
   "outputs": [
    {
     "data": {
      "text/html": [
       "<div>\n",
       "<style scoped>\n",
       "    .dataframe tbody tr th:only-of-type {\n",
       "        vertical-align: middle;\n",
       "    }\n",
       "\n",
       "    .dataframe tbody tr th {\n",
       "        vertical-align: top;\n",
       "    }\n",
       "\n",
       "    .dataframe thead th {\n",
       "        text-align: right;\n",
       "    }\n",
       "</style>\n",
       "<table border=\"1\" class=\"dataframe\">\n",
       "  <thead>\n",
       "    <tr style=\"text-align: right;\">\n",
       "      <th></th>\n",
       "      <th>URL</th>\n",
       "      <th>Question</th>\n",
       "      <th>Answer</th>\n",
       "    </tr>\n",
       "  </thead>\n",
       "  <tbody>\n",
       "    <tr>\n",
       "      <th>0</th>\n",
       "      <td>https://visitorcenter.ntu.edu.tw/News_Content_...</td>\n",
       "      <td>1.我是本校學生，請問有關 (1)領取/換發學生證（遺失補申請）、上課證；(2)申請成績單；...</td>\n",
       "      <td>以上問題，若你是大學生，請洽註冊組；若為研究生，請洽研教組。\\n同時，歡迎多加利用自動申請機...</td>\n",
       "    </tr>\n",
       "    <tr>\n",
       "      <th>1</th>\n",
       "      <td>https://visitorcenter.ntu.edu.tw/News_Content_...</td>\n",
       "      <td>2.我想報名轉學考試，應該到哪間辦公室？</td>\n",
       "      <td>請洽課務組，相關位置請參考網頁「洽公須知」第一行政大樓2樓平面圖。\\n\\n課務組電話：02-...</td>\n",
       "    </tr>\n",
       "    <tr>\n",
       "      <th>2</th>\n",
       "      <td>https://visitorcenter.ntu.edu.tw/News_Content_...</td>\n",
       "      <td>3.我想申請獎學金、辦理就學貸款、學雜費減免、學生事病假單、學生保險、填寫失物招領？</td>\n",
       "      <td>請洽生活輔導組，相關位置請參考網頁「洽公須知」第一行政大樓1樓平面圖。\\n\\n生活輔導組電話...</td>\n",
       "    </tr>\n",
       "    <tr>\n",
       "      <th>3</th>\n",
       "      <td>https://visitorcenter.ntu.edu.tw/News_Content_...</td>\n",
       "      <td>5.我想要申請社團活動、張貼海報……等</td>\n",
       "      <td>發布單位：綜合業務組\\n\\n請洽課外活動組，相關位置請參考網頁「洽公須知」第一行政大樓1樓平...</td>\n",
       "    </tr>\n",
       "    <tr>\n",
       "      <th>4</th>\n",
       "      <td>https://visitorcenter.ntu.edu.tw/News_Content_...</td>\n",
       "      <td>6.我是本校畢業的校友，請問申辦校友證、校友捐贈、協尋畢業校友、參加校友活動?</td>\n",
       "      <td>請洽校友中心，位於本校總圖書館1F。\\n\\n校友中心電話：(02) 3366-3299</td>\n",
       "    </tr>\n",
       "  </tbody>\n",
       "</table>\n",
       "</div>"
      ],
      "text/plain": [
       "                                                 URL  \\\n",
       "0  https://visitorcenter.ntu.edu.tw/News_Content_...   \n",
       "1  https://visitorcenter.ntu.edu.tw/News_Content_...   \n",
       "2  https://visitorcenter.ntu.edu.tw/News_Content_...   \n",
       "3  https://visitorcenter.ntu.edu.tw/News_Content_...   \n",
       "4  https://visitorcenter.ntu.edu.tw/News_Content_...   \n",
       "\n",
       "                                            Question  \\\n",
       "0  1.我是本校學生，請問有關 (1)領取/換發學生證（遺失補申請）、上課證；(2)申請成績單；...   \n",
       "1                               2.我想報名轉學考試，應該到哪間辦公室？   \n",
       "2         3.我想申請獎學金、辦理就學貸款、學雜費減免、學生事病假單、學生保險、填寫失物招領？   \n",
       "3                                5.我想要申請社團活動、張貼海報……等   \n",
       "4            6.我是本校畢業的校友，請問申辦校友證、校友捐贈、協尋畢業校友、參加校友活動?   \n",
       "\n",
       "                                              Answer  \n",
       "0  以上問題，若你是大學生，請洽註冊組；若為研究生，請洽研教組。\\n同時，歡迎多加利用自動申請機...  \n",
       "1  請洽課務組，相關位置請參考網頁「洽公須知」第一行政大樓2樓平面圖。\\n\\n課務組電話：02-...  \n",
       "2  請洽生活輔導組，相關位置請參考網頁「洽公須知」第一行政大樓1樓平面圖。\\n\\n生活輔導組電話...  \n",
       "3  發布單位：綜合業務組\\n\\n請洽課外活動組，相關位置請參考網頁「洽公須知」第一行政大樓1樓平...  \n",
       "4        請洽校友中心，位於本校總圖書館1F。\\n\\n校友中心電話：(02) 3366-3299  "
      ]
     },
     "execution_count": 52,
     "metadata": {},
     "output_type": "execute_result"
    }
   ],
   "source": [
    "faq = pd.read_csv('document/FAQ_filter.csv')\n",
    "faq.head()"
   ]
  },
  {
   "cell_type": "code",
   "execution_count": 27,
   "metadata": {},
   "outputs": [],
   "source": [
    "few_shot_examples = {'Query':faq['Question'], 'Document': [], 'Answer': faq['Answer'], \n",
    "                    'Contradictory_Answer': [], 'Context_Relevance_Label': [],\n",
    "                    'Answer_Faithfulness_Label': [], 'Answer_Relevance_Label': []}\n",
    "\n",
    "few_shot_examples['Document'] = [raw_df2['content'][url] for url in faq['URL']]\n",
    "\n",
    "for url in faq['URL']:\n",
    "    for idx, url2 in enumerate(faq['URL']):\n",
    "        if url2!=url:\n",
    "            few_shot_examples['Contradictory_Answer'].append(faq['Answer'][idx])\n",
    "            break\n",
    "\n",
    "few_shot_examples['Context_Relevance_Label'] = ['YES']*len(few_shot_examples['Document'])\n",
    "few_shot_examples['Answer_Faithfulness_Label'] = ['YES']*len(few_shot_examples['Document'])\n",
    "few_shot_examples['Answer_Relevance_Label'] = ['YES']*len(few_shot_examples['Document'])\n",
    "few_shot_prompt_df = pd.DataFrame(few_shot_examples)\n",
    "few_shot_prompt_df = few_shot_prompt_df.dropna()\n",
    "\n",
    "\n",
    "few_shot_prompt_df.to_csv('ARES/few_shot_prompt.tsv', index=False, sep='\\t')"
   ]
  },
  {
   "cell_type": "code",
   "execution_count": 53,
   "metadata": {},
   "outputs": [],
   "source": [
    "few_shot_examples = {'Query':faq['Question'], 'Document': [], 'Answer': faq['Answer'], \n",
    "                    'Context_Relevance_Label': [],\n",
    "                    'Answer_Faithfulness_Label': [], 'Answer_Relevance_Label': []}\n",
    "\n",
    "few_shot_examples['Document'] = [raw_df2['content'][url] for url in faq['URL']]\n",
    "\n",
    "# for url in faq['URL']:\n",
    "#     for idx, url2 in enumerate(faq['URL']):\n",
    "#         if url2!=url:\n",
    "#             few_shot_examples['Contradictory_Answer'].append(faq['Answer'][idx])\n",
    "#             break\n",
    "\n",
    "few_shot_examples['Context_Relevance_Label'] = ['1']*len(few_shot_examples['Document'])\n",
    "few_shot_examples['Answer_Faithfulness_Label'] = ['1']*len(few_shot_examples['Document'])\n",
    "few_shot_examples['Answer_Relevance_Label'] = ['1']*len(few_shot_examples['Document'])\n",
    "few_shot_prompt_df = pd.DataFrame(few_shot_examples)\n",
    "few_shot_prompt_df = few_shot_prompt_df.dropna()\n",
    "\n",
    "\n",
    "few_shot_prompt_df.to_csv('ARES/evaluation_datasets.tsv', index=False, sep='\\t')"
   ]
  },
  {
   "attachments": {},
   "cell_type": "markdown",
   "metadata": {},
   "source": [
    "### RAGAS"
   ]
  },
  {
   "cell_type": "code",
   "execution_count": 2,
   "metadata": {},
   "outputs": [
    {
     "data": {
      "text/html": [
       "<div>\n",
       "<style scoped>\n",
       "    .dataframe tbody tr th:only-of-type {\n",
       "        vertical-align: middle;\n",
       "    }\n",
       "\n",
       "    .dataframe tbody tr th {\n",
       "        vertical-align: top;\n",
       "    }\n",
       "\n",
       "    .dataframe thead th {\n",
       "        text-align: right;\n",
       "    }\n",
       "</style>\n",
       "<table border=\"1\" class=\"dataframe\">\n",
       "  <thead>\n",
       "    <tr style=\"text-align: right;\">\n",
       "      <th></th>\n",
       "      <th>Unnamed: 0</th>\n",
       "      <th>URL</th>\n",
       "      <th>Question</th>\n",
       "      <th>Answer</th>\n",
       "    </tr>\n",
       "  </thead>\n",
       "  <tbody>\n",
       "    <tr>\n",
       "      <th>0</th>\n",
       "      <td>0</td>\n",
       "      <td>https://topic.tipo.gov.tw/copyright-tw/cp-415-...</td>\n",
       "      <td>如何聯絡智慧財產局著作權組？</td>\n",
       "      <td>您可以透過以下方式聯絡智慧財產局著作權組：\\n- 電話：著作權諮詢專線電話\\n- 電子郵件：...</td>\n",
       "    </tr>\n",
       "  </tbody>\n",
       "</table>\n",
       "</div>"
      ],
      "text/plain": [
       "   Unnamed: 0                                                URL  \\\n",
       "0           0  https://topic.tipo.gov.tw/copyright-tw/cp-415-...   \n",
       "\n",
       "         Question                                             Answer  \n",
       "0  如何聯絡智慧財產局著作權組？  您可以透過以下方式聯絡智慧財產局著作權組：\\n- 電話：著作權諮詢專線電話\\n- 電子郵件：...  "
      ]
     },
     "execution_count": 2,
     "metadata": {},
     "output_type": "execute_result"
    }
   ],
   "source": [
    "import pandas as pd\n",
    "\n",
    "faq = pd.read_csv('document/testset.csv')\n",
    "faq.head(1)"
   ]
  },
  {
   "cell_type": "code",
   "execution_count": 3,
   "metadata": {},
   "outputs": [
    {
     "name": "stdout",
     "output_type": "stream",
     "text": [
      "0/997 questions crawl fail in testset.\n"
     ]
    }
   ],
   "source": [
    "# check ragas\n",
    "\n",
    "cnt = 0\n",
    "\n",
    "raw_df = pd.read_csv('document/clean_content_4.csv')\n",
    "# raw_df['url'] = raw_df.index\n",
    "raw_df2 = raw_df.set_index('url')\n",
    "# raw_df.reset_index(inplace=True, index=raw_df['url'])\n",
    "raw_df2.head()\n",
    "\n",
    "for idx, doc in enumerate([raw_df2['content'][url] for url in faq['URL']]):\n",
    "    if 0< len(str(doc)) < 20:\n",
    "        print(str(doc), faq['URL'][idx])\n",
    "        cnt+=1\n",
    "\n",
    "print(f'{cnt}/{len(faq)} questions crawl fail in testset.')"
   ]
  },
  {
   "cell_type": "code",
   "execution_count": null,
   "metadata": {},
   "outputs": [],
   "source": []
  },
  {
   "cell_type": "code",
   "execution_count": null,
   "metadata": {},
   "outputs": [],
   "source": []
  },
  {
   "cell_type": "code",
   "execution_count": null,
   "metadata": {},
   "outputs": [],
   "source": []
  },
  {
   "cell_type": "code",
   "execution_count": null,
   "metadata": {},
   "outputs": [],
   "source": []
  },
  {
   "cell_type": "code",
   "execution_count": 59,
   "metadata": {},
   "outputs": [
    {
     "data": {
      "text/html": [
       "<div>\n",
       "<style scoped>\n",
       "    .dataframe tbody tr th:only-of-type {\n",
       "        vertical-align: middle;\n",
       "    }\n",
       "\n",
       "    .dataframe tbody tr th {\n",
       "        vertical-align: top;\n",
       "    }\n",
       "\n",
       "    .dataframe thead th {\n",
       "        text-align: right;\n",
       "    }\n",
       "</style>\n",
       "<table border=\"1\" class=\"dataframe\">\n",
       "  <thead>\n",
       "    <tr style=\"text-align: right;\">\n",
       "      <th></th>\n",
       "      <th>URL</th>\n",
       "      <th>Question</th>\n",
       "      <th>Answer</th>\n",
       "      <th>ChatGPT</th>\n",
       "      <th>retreival doc</th>\n",
       "      <th>retreival url</th>\n",
       "      <th>HyDE</th>\n",
       "    </tr>\n",
       "  </thead>\n",
       "  <tbody>\n",
       "    <tr>\n",
       "      <th>0</th>\n",
       "      <td>https://admissions.ntu.edu.tw/zh-hant/apply/faq/</td>\n",
       "      <td>學生身份別之間有什麽差異？我應該如何查詢我的身份別呢？</td>\n",
       "      <td>學生身份別一共分四種：國際生、僑生、港澳生及陸生。您可以透過境外學位生身份別測驗來查詢自己的...</td>\n",
       "      <td>學生身份別有哪些類別？我該如何確認自己的身份別呢？</td>\n",
       "      <td>['to pay tuition? 我應該去哪裡得到學費繳交訊息？ To access yo...</td>\n",
       "      <td>['http://www.ipcs.ntu.edu.tw/page/about/index....</td>\n",
       "      <td>學生身份有多種類別，主要分為全日制學生和非全日制學生。全日制學生是指在學校正式註冊並按照學校...</td>\n",
       "    </tr>\n",
       "  </tbody>\n",
       "</table>\n",
       "</div>"
      ],
      "text/plain": [
       "                                                URL  \\\n",
       "0  https://admissions.ntu.edu.tw/zh-hant/apply/faq/   \n",
       "\n",
       "                      Question  \\\n",
       "0  學生身份別之間有什麽差異？我應該如何查詢我的身份別呢？   \n",
       "\n",
       "                                              Answer  \\\n",
       "0  學生身份別一共分四種：國際生、僑生、港澳生及陸生。您可以透過境外學位生身份別測驗來查詢自己的...   \n",
       "\n",
       "                     ChatGPT  \\\n",
       "0  學生身份別有哪些類別？我該如何確認自己的身份別呢？   \n",
       "\n",
       "                                       retreival doc  \\\n",
       "0  ['to pay tuition? 我應該去哪裡得到學費繳交訊息？ To access yo...   \n",
       "\n",
       "                                       retreival url  \\\n",
       "0  ['http://www.ipcs.ntu.edu.tw/page/about/index....   \n",
       "\n",
       "                                                HyDE  \n",
       "0  學生身份有多種類別，主要分為全日制學生和非全日制學生。全日制學生是指在學校正式註冊並按照學校...  "
      ]
     },
     "execution_count": 59,
     "metadata": {},
     "output_type": "execute_result"
    }
   ],
   "source": [
    "# hyde = pd.read_csv('document/FAQ_HyDE.csv')\n",
    "# hyde.head(1)"
   ]
  },
  {
   "cell_type": "code",
   "execution_count": 65,
   "metadata": {},
   "outputs": [
    {
     "data": {
      "text/plain": [
       "499"
      ]
     },
     "execution_count": 65,
     "metadata": {},
     "output_type": "execute_result"
    }
   ],
   "source": [
    "# ans = []\n",
    "# for f in faq.iterrows():\n",
    "#     for h in hyde.iterrows():\n",
    "#         if f[1]['Question'] == h[1]['Question']:\n",
    "#             ans.append(h[1]['HyDE'])\n",
    "#             break\n",
    "# len(ans)"
   ]
  },
  {
   "cell_type": "code",
   "execution_count": 66,
   "metadata": {},
   "outputs": [
    {
     "data": {
      "text/html": [
       "<div>\n",
       "<style scoped>\n",
       "    .dataframe tbody tr th:only-of-type {\n",
       "        vertical-align: middle;\n",
       "    }\n",
       "\n",
       "    .dataframe tbody tr th {\n",
       "        vertical-align: top;\n",
       "    }\n",
       "\n",
       "    .dataframe thead th {\n",
       "        text-align: right;\n",
       "    }\n",
       "</style>\n",
       "<table border=\"1\" class=\"dataframe\">\n",
       "  <thead>\n",
       "    <tr style=\"text-align: right;\">\n",
       "      <th></th>\n",
       "      <th>question</th>\n",
       "      <th>contexts</th>\n",
       "      <th>answer</th>\n",
       "      <th>ground_truths</th>\n",
       "    </tr>\n",
       "  </thead>\n",
       "  <tbody>\n",
       "    <tr>\n",
       "      <th>0</th>\n",
       "      <td>1.我是本校學生，請問有關 (1)領取/換發學生證（遺失補申請）、上課證；(2)申請成績單；...</td>\n",
       "      <td>跳到主要內容區塊 臺大訪客中心 洽公常見問答 mobile botton search 搜尋...</td>\n",
       "      <td>你好！對於領取/換發學生證（遺失補申請）、上課證，申請成績單，申請在學證明，休學、復學的申請...</td>\n",
       "      <td>以上問題，若你是大學生，請洽註冊組；若為研究生，請洽研教組。\\n同時，歡迎多加利用自動申請機...</td>\n",
       "    </tr>\n",
       "    <tr>\n",
       "      <th>1</th>\n",
       "      <td>2.我想報名轉學考試，應該到哪間辦公室？</td>\n",
       "      <td>跳到主要內容區塊 臺大訪客中心 洽公常見問答 mobile botton search 搜尋...</td>\n",
       "      <td>如果你想報名轉學考試，你應該前往學校的教務處辦公室。教務處負責處理學生的轉學事務，包括轉學考...</td>\n",
       "      <td>請洽課務組，相關位置請參考網頁「洽公須知」第一行政大樓2樓平面圖。\\n\\n課務組電話：02-...</td>\n",
       "    </tr>\n",
       "    <tr>\n",
       "      <th>2</th>\n",
       "      <td>3.我想申請獎學金、辦理就學貸款、學雜費減免、學生事病假單、學生保險、填寫失物招領？</td>\n",
       "      <td>跳到主要內容區塊 臺大訪客中心 洽公常見問答 mobile botton search 搜尋...</td>\n",
       "      <td>您可以找學校的學生事務處或學生資助中心辦理獎學金申請、就學貸款、學雜費減免等相關事宜。他們通...</td>\n",
       "      <td>請洽生活輔導組，相關位置請參考網頁「洽公須知」第一行政大樓1樓平面圖。\\n\\n生活輔導組電話...</td>\n",
       "    </tr>\n",
       "    <tr>\n",
       "      <th>3</th>\n",
       "      <td>5.我想要申請社團活動、張貼海報……等</td>\n",
       "      <td>跳到主要內容區塊 臺大訪客中心 洽公常見問答 mobile botton search 搜尋...</td>\n",
       "      <td>如果您想申請社團活動或張貼海報等事宜，您可以找學校的學生事務處或學生活動中心。這些單位通常負...</td>\n",
       "      <td>發布單位：綜合業務組\\n\\n請洽課外活動組，相關位置請參考網頁「洽公須知」第一行政大樓1樓平...</td>\n",
       "    </tr>\n",
       "    <tr>\n",
       "      <th>4</th>\n",
       "      <td>6.我是本校畢業的校友，請問申辦校友證、校友捐贈、協尋畢業校友、參加校友活動?</td>\n",
       "      <td>跳到主要內容區塊 臺大訪客中心 洽公常見問答 mobile botton search 搜尋...</td>\n",
       "      <td>作為本校的校友，您可以到校友事務處辦理校友證、校友捐贈、協尋畢業校友以及參加校友活動。\\n\\...</td>\n",
       "      <td>請洽校友中心，位於本校總圖書館1F。\\n\\n校友中心電話：(02) 3366-3299</td>\n",
       "    </tr>\n",
       "  </tbody>\n",
       "</table>\n",
       "</div>"
      ],
      "text/plain": [
       "                                            question  \\\n",
       "0  1.我是本校學生，請問有關 (1)領取/換發學生證（遺失補申請）、上課證；(2)申請成績單；...   \n",
       "1                               2.我想報名轉學考試，應該到哪間辦公室？   \n",
       "2         3.我想申請獎學金、辦理就學貸款、學雜費減免、學生事病假單、學生保險、填寫失物招領？   \n",
       "3                                5.我想要申請社團活動、張貼海報……等   \n",
       "4            6.我是本校畢業的校友，請問申辦校友證、校友捐贈、協尋畢業校友、參加校友活動?   \n",
       "\n",
       "                                            contexts  \\\n",
       "0  跳到主要內容區塊 臺大訪客中心 洽公常見問答 mobile botton search 搜尋...   \n",
       "1  跳到主要內容區塊 臺大訪客中心 洽公常見問答 mobile botton search 搜尋...   \n",
       "2  跳到主要內容區塊 臺大訪客中心 洽公常見問答 mobile botton search 搜尋...   \n",
       "3  跳到主要內容區塊 臺大訪客中心 洽公常見問答 mobile botton search 搜尋...   \n",
       "4  跳到主要內容區塊 臺大訪客中心 洽公常見問答 mobile botton search 搜尋...   \n",
       "\n",
       "                                              answer  \\\n",
       "0  你好！對於領取/換發學生證（遺失補申請）、上課證，申請成績單，申請在學證明，休學、復學的申請...   \n",
       "1  如果你想報名轉學考試，你應該前往學校的教務處辦公室。教務處負責處理學生的轉學事務，包括轉學考...   \n",
       "2  您可以找學校的學生事務處或學生資助中心辦理獎學金申請、就學貸款、學雜費減免等相關事宜。他們通...   \n",
       "3  如果您想申請社團活動或張貼海報等事宜，您可以找學校的學生事務處或學生活動中心。這些單位通常負...   \n",
       "4  作為本校的校友，您可以到校友事務處辦理校友證、校友捐贈、協尋畢業校友以及參加校友活動。\\n\\...   \n",
       "\n",
       "                                       ground_truths  \n",
       "0  以上問題，若你是大學生，請洽註冊組；若為研究生，請洽研教組。\\n同時，歡迎多加利用自動申請機...  \n",
       "1  請洽課務組，相關位置請參考網頁「洽公須知」第一行政大樓2樓平面圖。\\n\\n課務組電話：02-...  \n",
       "2  請洽生活輔導組，相關位置請參考網頁「洽公須知」第一行政大樓1樓平面圖。\\n\\n生活輔導組電話...  \n",
       "3  發布單位：綜合業務組\\n\\n請洽課外活動組，相關位置請參考網頁「洽公須知」第一行政大樓1樓平...  \n",
       "4        請洽校友中心，位於本校總圖書館1F。\\n\\n校友中心電話：(02) 3366-3299  "
      ]
     },
     "execution_count": 66,
     "metadata": {},
     "output_type": "execute_result"
    }
   ],
   "source": [
    "# ragas_dict = {'question':faq['Question'], 'contexts':[raw_df2['content'][url] for url in faq['URL']], 'answer': ans, 'ground_truths': faq['Answer']}\n",
    "\n",
    "# origin_chatgpt_ans_df = pd.DataFrame(ragas_dict)\n",
    "# origin_chatgpt_ans_df.head()"
   ]
  },
  {
   "cell_type": "code",
   "execution_count": 67,
   "metadata": {},
   "outputs": [],
   "source": [
    "# origin_chatgpt_ans_df.to_csv('evaluation/chatgpt.csv', index=False)"
   ]
  },
  {
   "cell_type": "code",
   "execution_count": null,
   "metadata": {},
   "outputs": [],
   "source": []
  }
 ],
 "metadata": {
  "kernelspec": {
   "display_name": "ntugpt",
   "language": "python",
   "name": "python3"
  },
  "language_info": {
   "codemirror_mode": {
    "name": "ipython",
    "version": 3
   },
   "file_extension": ".py",
   "mimetype": "text/x-python",
   "name": "python",
   "nbconvert_exporter": "python",
   "pygments_lexer": "ipython3",
   "version": "3.8.18"
  },
  "orig_nbformat": 4,
  "vscode": {
   "interpreter": {
    "hash": "4921702c1a37a09b19733a4935fcc94c6777668fce9d92053c697eb395fb3b9e"
   }
  }
 },
 "nbformat": 4,
 "nbformat_minor": 2
}
